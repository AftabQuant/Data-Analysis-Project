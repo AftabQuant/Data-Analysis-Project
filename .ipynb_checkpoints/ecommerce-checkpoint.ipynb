{
 "cells": [
  {
   "cell_type": "code",
   "execution_count": 2,
   "id": "e19afbb4-a7e0-4e8e-ad1d-6506584fdf66",
   "metadata": {},
   "outputs": [
    {
     "name": "stdout",
     "output_type": "stream",
     "text": [
      "Processing customers.csv\n",
      "NaN values before replacement:\n",
      "customer_id                 0\n",
      "customer_unique_id          0\n",
      "customer_zip_code_prefix    0\n",
      "customer_city               0\n",
      "customer_state              0\n",
      "dtype: int64\n",
      "\n",
      "Processing orders.csv\n",
      "NaN values before replacement:\n",
      "order_id                            0\n",
      "customer_id                         0\n",
      "order_status                        0\n",
      "order_purchase_timestamp            0\n",
      "order_approved_at                 160\n",
      "order_delivered_carrier_date     1783\n",
      "order_delivered_customer_date    2965\n",
      "order_estimated_delivery_date       0\n",
      "dtype: int64\n",
      "\n",
      "Processing sellers.csv\n",
      "NaN values before replacement:\n",
      "seller_id                 0\n",
      "seller_zip_code_prefix    0\n",
      "seller_city               0\n",
      "seller_state              0\n",
      "dtype: int64\n",
      "\n",
      "Processing products.csv\n",
      "NaN values before replacement:\n",
      "product_id                      0\n",
      "product category              610\n",
      "product_name_length           610\n",
      "product_description_length    610\n",
      "product_photos_qty            610\n",
      "product_weight_g                2\n",
      "product_length_cm               2\n",
      "product_height_cm               2\n",
      "product_width_cm                2\n",
      "dtype: int64\n",
      "\n",
      "Processing order_items.csv\n",
      "NaN values before replacement:\n",
      "order_id               0\n",
      "order_item_id          0\n",
      "product_id             0\n",
      "seller_id              0\n",
      "shipping_limit_date    0\n",
      "price                  0\n",
      "freight_value          0\n",
      "dtype: int64\n",
      "\n",
      "Processing payments.csv\n",
      "NaN values before replacement:\n",
      "order_id                0\n",
      "payment_sequential      0\n",
      "payment_type            0\n",
      "payment_installments    0\n",
      "payment_value           0\n",
      "dtype: int64\n",
      "\n",
      "Processing geolocation.csv\n",
      "NaN values before replacement:\n",
      "geolocation_zip_code_prefix    0\n",
      "geolocation_lat                0\n",
      "geolocation_lng                0\n",
      "geolocation_city               0\n",
      "geolocation_state              0\n",
      "dtype: int64\n",
      "\n"
     ]
    }
   ],
   "source": [
    "import pandas as pd\n",
    "import mysql.connector\n",
    "import os\n",
    "\n",
    "# List of CSV files and their corresponding table names\n",
    "csv_files = [\n",
    "    ('customers.csv', 'customers'),\n",
    "    ('orders.csv', 'orders'),\n",
    "    ('sellers.csv', 'sellers'),\n",
    "    ('products.csv', 'products'),\n",
    "    ('order_items.csv', 'order_items'),\n",
    "    ('payments.csv', 'payments'),\n",
    "    ('geolocation.csv', 'geolocation') # Added payments.csv for specific handling\n",
    "]\n",
    "\n",
    "# Connect to the MySQL database\n",
    "conn = mysql.connector.connect(\n",
    "    host='localhost',\n",
    "    user='root',\n",
    "    password='123456',\n",
    "    database='eCommerce'\n",
    ")\n",
    "cursor = conn.cursor()\n",
    "\n",
    "# Folder containing the CSV files\n",
    "folder_path = 'D:/Ultimate Programming/PortFolio ProJect/E Commerce'\n",
    "\n",
    "def get_sql_type(dtype):\n",
    "    if pd.api.types.is_integer_dtype(dtype):\n",
    "        return 'INT'\n",
    "    elif pd.api.types.is_float_dtype(dtype):\n",
    "        return 'FLOAT'\n",
    "    elif pd.api.types.is_bool_dtype(dtype):\n",
    "        return 'BOOLEAN'\n",
    "    elif pd.api.types.is_datetime64_any_dtype(dtype):\n",
    "        return 'DATETIME'\n",
    "    else:\n",
    "        return 'TEXT'\n",
    "\n",
    "for csv_file, table_name in csv_files:\n",
    "    file_path = os.path.join(folder_path, csv_file)\n",
    "    \n",
    "    # Read the CSV file into a pandas DataFrame\n",
    "    df = pd.read_csv(file_path)\n",
    "    \n",
    "    # Replace NaN with None to handle SQL NULL\n",
    "    df = df.where(pd.notnull(df), None)\n",
    "    \n",
    "    # Debugging: Check for NaN values\n",
    "    print(f\"Processing {csv_file}\")\n",
    "    print(f\"NaN values before replacement:\\n{df.isnull().sum()}\\n\")\n",
    "\n",
    "    # Clean column names\n",
    "    df.columns = [col.replace(' ', '_').replace('-', '_').replace('.', '_') for col in df.columns]\n",
    "\n",
    "    # Generate the CREATE TABLE statement with appropriate data types\n",
    "    columns = ', '.join([f'`{col}` {get_sql_type(df[col].dtype)}' for col in df.columns])\n",
    "    create_table_query = f'CREATE TABLE IF NOT EXISTS `{table_name}` ({columns})'\n",
    "    cursor.execute(create_table_query)\n",
    "\n",
    "    # Insert DataFrame data into the MySQL table\n",
    "    for _, row in df.iterrows():\n",
    "        # Convert row to tuple and handle NaN/None explicitly\n",
    "        values = tuple(None if pd.isna(x) else x for x in row)\n",
    "        sql = f\"INSERT INTO `{table_name}` ({', '.join(['`' + col + '`' for col in df.columns])}) VALUES ({', '.join(['%s'] * len(row))})\"\n",
    "        cursor.execute(sql, values)\n",
    "\n",
    "    # Commit the transaction for the current CSV file\n",
    "    conn.commit()\n",
    "\n",
    "# Close the connection\n",
    "conn.close()"
   ]
  },
  {
   "cell_type": "code",
   "execution_count": 1,
   "id": "cbcffeea-b668-4997-90fb-cfd470623fcc",
   "metadata": {},
   "outputs": [],
   "source": [
    "import numpy as np\n",
    "import pandas as pd\n",
    "import matplotlib.pyplot as plt\n",
    "import seaborn as sns\n",
    "import mysql.connector\n",
    "db = mysql.connector.connect(host = 'localhost',\n",
    "                              user = 'root',\n",
    "                              password = '123456',\n",
    "                              database = 'eCommerce')\n",
    "cur = db.cursor()"
   ]
  },
  {
   "cell_type": "markdown",
   "id": "c4c9442f-cdc8-4806-948a-44fa37538562",
   "metadata": {},
   "source": [
    "# 1. List all unique cities where customers are located."
   ]
  },
  {
   "cell_type": "code",
   "execution_count": 2,
   "id": "eec570d9-0a54-40f0-97b1-8a1e48d0e262",
   "metadata": {},
   "outputs": [
    {
     "name": "stdout",
     "output_type": "stream",
     "text": [
      "           Customers_City\n",
      "0                  franca\n",
      "1   sao bernardo do campo\n",
      "2               sao paulo\n",
      "3         mogi das cruzes\n",
      "4                campinas\n",
      "5          jaragua do sul\n",
      "6                 timoteo\n",
      "7                curitiba\n",
      "8          belo horizonte\n",
      "9           montes claros\n",
      "10         rio de janeiro\n",
      "11       lencois paulista\n",
      "12          caxias do sul\n",
      "13             piracicaba\n",
      "14              guarulhos\n",
      "15                 pacaja\n",
      "16          florianopolis\n",
      "17   aparecida de goiania\n",
      "18            santo andre\n"
     ]
    }
   ],
   "source": [
    "query = \"\"\" select distinct customer_city from customers\"\"\"\n",
    "cur.execute(query)\n",
    "data = cur.fetchall()\n",
    "df = pd.DataFrame(data)\n",
    "df.columns = ['Customers_City']\n",
    "print(df.head(19))"
   ]
  },
  {
   "cell_type": "markdown",
   "id": "3daea8aa-edc3-43d6-b669-fb61d0520777",
   "metadata": {},
   "source": [
    "# 2. Count The Number Of Orders Placed In 2017."
   ]
  },
  {
   "cell_type": "code",
   "execution_count": 6,
   "id": "8aa53f58-c299-4e1f-bcf6-0263e8c4e7e2",
   "metadata": {},
   "outputs": [
    {
     "name": "stdout",
     "output_type": "stream",
     "text": [
      "   Count\n",
      "0  45101\n"
     ]
    }
   ],
   "source": [
    "que2 = \"\"\" select count(order_id) from orders\n",
    "    where year(order_purchase_timestamp) = 2017\"\"\"\n",
    "cur.execute(que2)\n",
    "data = cur.fetchall()\n",
    "df = pd.DataFrame(data)\n",
    "df.columns = ['Count']\n",
    "print(df)"
   ]
  },
  {
   "cell_type": "markdown",
   "id": "87753ace-8680-4b4d-9917-8a092e15c77a",
   "metadata": {},
   "source": [
    "# 3. Find the total sales per category."
   ]
  },
  {
   "cell_type": "code",
   "execution_count": 10,
   "id": "4f5374ca-17eb-4d23-8282-317d78c8011d",
   "metadata": {},
   "outputs": [
    {
     "name": "stdout",
     "output_type": "stream",
     "text": [
      "              Categorty       Sales\n",
      "0             perfumery   506738.66\n",
      "1  Furniture Decoration  1430176.39\n",
      "2             telephony   486882.05\n",
      "3        bed table bath  1712553.67\n",
      "4            automotive   852294.33\n",
      "5  computer accessories  1585330.45\n",
      "6            housewares  1094758.13\n",
      "7                babies   539845.66\n",
      "8                  toys   619037.69\n",
      "9      Furniture office   646826.49\n"
     ]
    }
   ],
   "source": [
    "que3 = \"\"\" select products.product_category, round(sum(payments.payment_value),2)\n",
    "from products join order_items\n",
    "on products.product_id = order_items.product_id\n",
    "join payments\n",
    "on payments.order_id = order_items.order_id\n",
    "group by products.product_category\"\"\"\n",
    "cur.execute(que3)\n",
    "data = cur.fetchall()\n",
    "df = pd.DataFrame(data, columns = ['Categorty', 'Sales'])\n",
    "print(df.head(10))"
   ]
  },
  {
   "cell_type": "markdown",
   "id": "12877eca-ed04-41d7-9aae-8a1bd93136ae",
   "metadata": {},
   "source": [
    "# 4. Calculate the percentage of orders that were paid in installments."
   ]
  },
  {
   "cell_type": "code",
   "execution_count": 20,
   "id": "07d4ac0a-bb88-4f17-b889-2d9e10f7b189",
   "metadata": {},
   "outputs": [
    {
     "data": {
      "text/plain": [
       "('Total Paid Installmenys is : ', Decimal('99.9981'))"
      ]
     },
     "execution_count": 20,
     "metadata": {},
     "output_type": "execute_result"
    }
   ],
   "source": [
    "q4 = \"\"\"  select (sum(case when payment_installments >=1 then 1 \n",
    "    else 0 end))/ count(*) *  100 from payments\"\"\"\n",
    "cur.execute(q4)\n",
    "data = cur.fetchall()\n",
    "df = pd.DataFrame(data)\n",
    "'Total Paid Installmenys is : ' ,data[0][0]"
   ]
  },
  {
   "cell_type": "markdown",
   "id": "5085e66f-9197-4436-a5d8-3fe4c2ea8e4b",
   "metadata": {},
   "source": [
    "# 5. Count the number of customers from each state. \n"
   ]
  },
  {
   "cell_type": "code",
   "execution_count": 23,
   "id": "f9a35776-a6b4-442c-ac5d-a0a67bb9eb9f",
   "metadata": {},
   "outputs": [
    {
     "name": "stdout",
     "output_type": "stream",
     "text": [
      "   State  Numbers\n",
      "0     SP    41746\n",
      "1     SC     3637\n",
      "2     MG    11635\n",
      "3     PR     5045\n",
      "4     RJ    12852\n",
      "5     RS     5466\n",
      "6     PA      975\n",
      "7     GO     2020\n",
      "8     ES     2033\n",
      "9     BA     3380\n",
      "10    MA      747\n",
      "11    MS      715\n",
      "12    CE     1336\n",
      "13    DF     2140\n",
      "14    RN      485\n",
      "15    PE     1652\n",
      "16    MT      907\n",
      "17    AM      148\n",
      "18    AP       68\n",
      "19    AL      413\n",
      "20    RO      253\n",
      "21    PB      536\n",
      "22    TO      280\n",
      "23    PI      495\n",
      "24    AC       81\n",
      "25    SE      350\n",
      "26    RR       46\n"
     ]
    }
   ],
   "source": [
    "q5 = \"\"\"select customer_state, count(customer_id) from customers\n",
    "group by customer_state\"\"\"\n",
    "cur.execute(q5)\n",
    "data = cur.fetchall()\n",
    "df = pd.DataFrame(data, columns = ['State', 'Numbers'])\n",
    "print(df)"
   ]
  }
 ],
 "metadata": {
  "kernelspec": {
   "display_name": "Python 3 (ipykernel)",
   "language": "python",
   "name": "python3"
  },
  "language_info": {
   "codemirror_mode": {
    "name": "ipython",
    "version": 3
   },
   "file_extension": ".py",
   "mimetype": "text/x-python",
   "name": "python",
   "nbconvert_exporter": "python",
   "pygments_lexer": "ipython3",
   "version": "3.13.0"
  },
  "widgets": {
   "application/vnd.jupyter.widget-state+json": {
    "state": {},
    "version_major": 2,
    "version_minor": 0
   }
  }
 },
 "nbformat": 4,
 "nbformat_minor": 5
}

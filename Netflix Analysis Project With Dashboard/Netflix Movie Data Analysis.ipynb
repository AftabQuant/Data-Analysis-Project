{
 "cells": [
  {
   "cell_type": "code",
   "execution_count": 1,
   "id": "795cfe42-83cf-4d15-a4ed-7fa9aad4d1a3",
   "metadata": {},
   "outputs": [],
   "source": [
    "import numpy as np\n",
    "import pandas as pd\n",
    "import matplotlib.pyplot as plt\n",
    "import seaborn as sns\n",
    "import warnings\n",
    "\n",
    "warnings.filterwarnings('ignore')"
   ]
  },
  {
   "cell_type": "code",
   "execution_count": 9,
   "id": "f48d671b-f3af-4628-8aa8-f7636be49803",
   "metadata": {},
   "outputs": [],
   "source": [
    "df = pd.read_csv(\"netflix_titles.csv\")"
   ]
  },
  {
   "cell_type": "code",
   "execution_count": 3,
   "id": "fba628d6-149e-497c-b211-23a0c50f0ba3",
   "metadata": {},
   "outputs": [
    {
     "data": {
      "text/html": [
       "<div>\n",
       "<style scoped>\n",
       "    .dataframe tbody tr th:only-of-type {\n",
       "        vertical-align: middle;\n",
       "    }\n",
       "\n",
       "    .dataframe tbody tr th {\n",
       "        vertical-align: top;\n",
       "    }\n",
       "\n",
       "    .dataframe thead th {\n",
       "        text-align: right;\n",
       "    }\n",
       "</style>\n",
       "<table border=\"1\" class=\"dataframe\">\n",
       "  <thead>\n",
       "    <tr style=\"text-align: right;\">\n",
       "      <th></th>\n",
       "      <th>show_id</th>\n",
       "      <th>type</th>\n",
       "      <th>title</th>\n",
       "      <th>director</th>\n",
       "      <th>cast</th>\n",
       "      <th>country</th>\n",
       "      <th>date_added</th>\n",
       "      <th>release_year</th>\n",
       "      <th>rating</th>\n",
       "      <th>duration</th>\n",
       "      <th>listed_in</th>\n",
       "      <th>description</th>\n",
       "    </tr>\n",
       "  </thead>\n",
       "  <tbody>\n",
       "    <tr>\n",
       "      <th>0</th>\n",
       "      <td>s1</td>\n",
       "      <td>Movie</td>\n",
       "      <td>Dick Johnson Is Dead</td>\n",
       "      <td>Kirsten Johnson</td>\n",
       "      <td>NaN</td>\n",
       "      <td>United States</td>\n",
       "      <td>September 25, 2021</td>\n",
       "      <td>2020</td>\n",
       "      <td>PG-13</td>\n",
       "      <td>90 min</td>\n",
       "      <td>Documentaries</td>\n",
       "      <td>As her father nears the end of his life, filmm...</td>\n",
       "    </tr>\n",
       "    <tr>\n",
       "      <th>1</th>\n",
       "      <td>s2</td>\n",
       "      <td>TV Show</td>\n",
       "      <td>Blood &amp; Water</td>\n",
       "      <td>NaN</td>\n",
       "      <td>Ama Qamata, Khosi Ngema, Gail Mabalane, Thaban...</td>\n",
       "      <td>South Africa</td>\n",
       "      <td>September 24, 2021</td>\n",
       "      <td>2021</td>\n",
       "      <td>TV-MA</td>\n",
       "      <td>2 Seasons</td>\n",
       "      <td>International TV Shows, TV Dramas, TV Mysteries</td>\n",
       "      <td>After crossing paths at a party, a Cape Town t...</td>\n",
       "    </tr>\n",
       "    <tr>\n",
       "      <th>2</th>\n",
       "      <td>s3</td>\n",
       "      <td>TV Show</td>\n",
       "      <td>Ganglands</td>\n",
       "      <td>Julien Leclercq</td>\n",
       "      <td>Sami Bouajila, Tracy Gotoas, Samuel Jouy, Nabi...</td>\n",
       "      <td>NaN</td>\n",
       "      <td>September 24, 2021</td>\n",
       "      <td>2021</td>\n",
       "      <td>TV-MA</td>\n",
       "      <td>1 Season</td>\n",
       "      <td>Crime TV Shows, International TV Shows, TV Act...</td>\n",
       "      <td>To protect his family from a powerful drug lor...</td>\n",
       "    </tr>\n",
       "  </tbody>\n",
       "</table>\n",
       "</div>"
      ],
      "text/plain": [
       "  show_id     type                 title         director  \\\n",
       "0      s1    Movie  Dick Johnson Is Dead  Kirsten Johnson   \n",
       "1      s2  TV Show         Blood & Water              NaN   \n",
       "2      s3  TV Show             Ganglands  Julien Leclercq   \n",
       "\n",
       "                                                cast        country  \\\n",
       "0                                                NaN  United States   \n",
       "1  Ama Qamata, Khosi Ngema, Gail Mabalane, Thaban...   South Africa   \n",
       "2  Sami Bouajila, Tracy Gotoas, Samuel Jouy, Nabi...            NaN   \n",
       "\n",
       "           date_added  release_year rating   duration  \\\n",
       "0  September 25, 2021          2020  PG-13     90 min   \n",
       "1  September 24, 2021          2021  TV-MA  2 Seasons   \n",
       "2  September 24, 2021          2021  TV-MA   1 Season   \n",
       "\n",
       "                                           listed_in  \\\n",
       "0                                      Documentaries   \n",
       "1    International TV Shows, TV Dramas, TV Mysteries   \n",
       "2  Crime TV Shows, International TV Shows, TV Act...   \n",
       "\n",
       "                                         description  \n",
       "0  As her father nears the end of his life, filmm...  \n",
       "1  After crossing paths at a party, a Cape Town t...  \n",
       "2  To protect his family from a powerful drug lor...  "
      ]
     },
     "execution_count": 3,
     "metadata": {},
     "output_type": "execute_result"
    }
   ],
   "source": [
    "df.head(3)"
   ]
  },
  {
   "cell_type": "markdown",
   "id": "099029d4-0b87-434d-948b-70a77989a66b",
   "metadata": {},
   "source": [
    "# Data Preprocessing Or Data Cleaning"
   ]
  },
  {
   "cell_type": "code",
   "execution_count": 4,
   "id": "bbd3f461-4720-4dbf-8f4d-930ed641a0ed",
   "metadata": {},
   "outputs": [
    {
     "name": "stdout",
     "output_type": "stream",
     "text": [
      "4307\n"
     ]
    }
   ],
   "source": [
    "# Check for null values\n",
    "print(df.isnull().sum().sum())"
   ]
  },
  {
   "cell_type": "code",
   "execution_count": 5,
   "id": "8882108d-8b9b-4ce6-a775-cb44837f2979",
   "metadata": {},
   "outputs": [
    {
     "name": "stdout",
     "output_type": "stream",
     "text": [
      "0\n"
     ]
    }
   ],
   "source": [
    "# Check for duplicated rows\n",
    "print(df.duplicated().sum().sum())"
   ]
  },
  {
   "cell_type": "code",
   "execution_count": 6,
   "id": "2c8e0d3e-28d8-4af8-b10a-9dca4f1bb47e",
   "metadata": {},
   "outputs": [
    {
     "name": "stdout",
     "output_type": "stream",
     "text": [
      "<class 'pandas.core.frame.DataFrame'>\n",
      "RangeIndex: 8807 entries, 0 to 8806\n",
      "Data columns (total 12 columns):\n",
      " #   Column        Non-Null Count  Dtype \n",
      "---  ------        --------------  ----- \n",
      " 0   show_id       8807 non-null   object\n",
      " 1   type          8807 non-null   object\n",
      " 2   title         8807 non-null   object\n",
      " 3   director      6173 non-null   object\n",
      " 4   cast          7982 non-null   object\n",
      " 5   country       7976 non-null   object\n",
      " 6   date_added    8797 non-null   object\n",
      " 7   release_year  8807 non-null   int64 \n",
      " 8   rating        8803 non-null   object\n",
      " 9   duration      8804 non-null   object\n",
      " 10  listed_in     8807 non-null   object\n",
      " 11  description   8807 non-null   object\n",
      "dtypes: int64(1), object(11)\n",
      "memory usage: 825.8+ KB\n"
     ]
    }
   ],
   "source": [
    "df.info()"
   ]
  },
  {
   "cell_type": "code",
   "execution_count": 7,
   "id": "266af807-fbea-491e-855b-e5e2358bd544",
   "metadata": {},
   "outputs": [
    {
     "data": {
      "text/html": [
       "<div>\n",
       "<style scoped>\n",
       "    .dataframe tbody tr th:only-of-type {\n",
       "        vertical-align: middle;\n",
       "    }\n",
       "\n",
       "    .dataframe tbody tr th {\n",
       "        vertical-align: top;\n",
       "    }\n",
       "\n",
       "    .dataframe thead th {\n",
       "        text-align: right;\n",
       "    }\n",
       "</style>\n",
       "<table border=\"1\" class=\"dataframe\">\n",
       "  <thead>\n",
       "    <tr style=\"text-align: right;\">\n",
       "      <th></th>\n",
       "      <th>release_year</th>\n",
       "    </tr>\n",
       "  </thead>\n",
       "  <tbody>\n",
       "    <tr>\n",
       "      <th>count</th>\n",
       "      <td>8807.000000</td>\n",
       "    </tr>\n",
       "    <tr>\n",
       "      <th>mean</th>\n",
       "      <td>2014.180198</td>\n",
       "    </tr>\n",
       "    <tr>\n",
       "      <th>std</th>\n",
       "      <td>8.819312</td>\n",
       "    </tr>\n",
       "    <tr>\n",
       "      <th>min</th>\n",
       "      <td>1925.000000</td>\n",
       "    </tr>\n",
       "    <tr>\n",
       "      <th>25%</th>\n",
       "      <td>2013.000000</td>\n",
       "    </tr>\n",
       "    <tr>\n",
       "      <th>50%</th>\n",
       "      <td>2017.000000</td>\n",
       "    </tr>\n",
       "    <tr>\n",
       "      <th>75%</th>\n",
       "      <td>2019.000000</td>\n",
       "    </tr>\n",
       "    <tr>\n",
       "      <th>max</th>\n",
       "      <td>2021.000000</td>\n",
       "    </tr>\n",
       "  </tbody>\n",
       "</table>\n",
       "</div>"
      ],
      "text/plain": [
       "       release_year\n",
       "count   8807.000000\n",
       "mean    2014.180198\n",
       "std        8.819312\n",
       "min     1925.000000\n",
       "25%     2013.000000\n",
       "50%     2017.000000\n",
       "75%     2019.000000\n",
       "max     2021.000000"
      ]
     },
     "execution_count": 7,
     "metadata": {},
     "output_type": "execute_result"
    }
   ],
   "source": [
    "df.describe()"
   ]
  },
  {
   "cell_type": "code",
   "execution_count": 8,
   "id": "c2bad41b-15c3-4166-bc12-630e63c5cd74",
   "metadata": {},
   "outputs": [
    {
     "ename": "KeyError",
     "evalue": "'Release_Date'",
     "output_type": "error",
     "traceback": [
      "\u001b[1;31m---------------------------------------------------------------------------\u001b[0m",
      "\u001b[1;31mKeyError\u001b[0m                                  Traceback (most recent call last)",
      "File \u001b[1;32mC:\\Program Files\\Python313\\Lib\\site-packages\\pandas\\core\\indexes\\base.py:3805\u001b[0m, in \u001b[0;36mIndex.get_loc\u001b[1;34m(self, key)\u001b[0m\n\u001b[0;32m   3804\u001b[0m \u001b[38;5;28;01mtry\u001b[39;00m:\n\u001b[1;32m-> 3805\u001b[0m     \u001b[38;5;28;01mreturn\u001b[39;00m \u001b[38;5;28;43mself\u001b[39;49m\u001b[38;5;241;43m.\u001b[39;49m\u001b[43m_engine\u001b[49m\u001b[38;5;241;43m.\u001b[39;49m\u001b[43mget_loc\u001b[49m\u001b[43m(\u001b[49m\u001b[43mcasted_key\u001b[49m\u001b[43m)\u001b[49m\n\u001b[0;32m   3806\u001b[0m \u001b[38;5;28;01mexcept\u001b[39;00m \u001b[38;5;167;01mKeyError\u001b[39;00m \u001b[38;5;28;01mas\u001b[39;00m err:\n",
      "File \u001b[1;32mindex.pyx:167\u001b[0m, in \u001b[0;36mpandas._libs.index.IndexEngine.get_loc\u001b[1;34m()\u001b[0m\n",
      "File \u001b[1;32mindex.pyx:196\u001b[0m, in \u001b[0;36mpandas._libs.index.IndexEngine.get_loc\u001b[1;34m()\u001b[0m\n",
      "File \u001b[1;32mpandas\\\\_libs\\\\hashtable_class_helper.pxi:7081\u001b[0m, in \u001b[0;36mpandas._libs.hashtable.PyObjectHashTable.get_item\u001b[1;34m()\u001b[0m\n",
      "File \u001b[1;32mpandas\\\\_libs\\\\hashtable_class_helper.pxi:7089\u001b[0m, in \u001b[0;36mpandas._libs.hashtable.PyObjectHashTable.get_item\u001b[1;34m()\u001b[0m\n",
      "\u001b[1;31mKeyError\u001b[0m: 'Release_Date'",
      "\nThe above exception was the direct cause of the following exception:\n",
      "\u001b[1;31mKeyError\u001b[0m                                  Traceback (most recent call last)",
      "Cell \u001b[1;32mIn[8], line 1\u001b[0m\n\u001b[1;32m----> 1\u001b[0m df[\u001b[38;5;124m'\u001b[39m\u001b[38;5;124mRelease_Date\u001b[39m\u001b[38;5;124m'\u001b[39m] \u001b[38;5;241m=\u001b[39m pd\u001b[38;5;241m.\u001b[39mto_datetime(\u001b[43mdf\u001b[49m\u001b[43m[\u001b[49m\u001b[38;5;124;43m'\u001b[39;49m\u001b[38;5;124;43mRelease_Date\u001b[39;49m\u001b[38;5;124;43m'\u001b[39;49m\u001b[43m]\u001b[49m)\n",
      "File \u001b[1;32mC:\\Program Files\\Python313\\Lib\\site-packages\\pandas\\core\\frame.py:4102\u001b[0m, in \u001b[0;36mDataFrame.__getitem__\u001b[1;34m(self, key)\u001b[0m\n\u001b[0;32m   4100\u001b[0m \u001b[38;5;28;01mif\u001b[39;00m \u001b[38;5;28mself\u001b[39m\u001b[38;5;241m.\u001b[39mcolumns\u001b[38;5;241m.\u001b[39mnlevels \u001b[38;5;241m>\u001b[39m \u001b[38;5;241m1\u001b[39m:\n\u001b[0;32m   4101\u001b[0m     \u001b[38;5;28;01mreturn\u001b[39;00m \u001b[38;5;28mself\u001b[39m\u001b[38;5;241m.\u001b[39m_getitem_multilevel(key)\n\u001b[1;32m-> 4102\u001b[0m indexer \u001b[38;5;241m=\u001b[39m \u001b[38;5;28;43mself\u001b[39;49m\u001b[38;5;241;43m.\u001b[39;49m\u001b[43mcolumns\u001b[49m\u001b[38;5;241;43m.\u001b[39;49m\u001b[43mget_loc\u001b[49m\u001b[43m(\u001b[49m\u001b[43mkey\u001b[49m\u001b[43m)\u001b[49m\n\u001b[0;32m   4103\u001b[0m \u001b[38;5;28;01mif\u001b[39;00m is_integer(indexer):\n\u001b[0;32m   4104\u001b[0m     indexer \u001b[38;5;241m=\u001b[39m [indexer]\n",
      "File \u001b[1;32mC:\\Program Files\\Python313\\Lib\\site-packages\\pandas\\core\\indexes\\base.py:3812\u001b[0m, in \u001b[0;36mIndex.get_loc\u001b[1;34m(self, key)\u001b[0m\n\u001b[0;32m   3807\u001b[0m     \u001b[38;5;28;01mif\u001b[39;00m \u001b[38;5;28misinstance\u001b[39m(casted_key, \u001b[38;5;28mslice\u001b[39m) \u001b[38;5;129;01mor\u001b[39;00m (\n\u001b[0;32m   3808\u001b[0m         \u001b[38;5;28misinstance\u001b[39m(casted_key, abc\u001b[38;5;241m.\u001b[39mIterable)\n\u001b[0;32m   3809\u001b[0m         \u001b[38;5;129;01mand\u001b[39;00m \u001b[38;5;28many\u001b[39m(\u001b[38;5;28misinstance\u001b[39m(x, \u001b[38;5;28mslice\u001b[39m) \u001b[38;5;28;01mfor\u001b[39;00m x \u001b[38;5;129;01min\u001b[39;00m casted_key)\n\u001b[0;32m   3810\u001b[0m     ):\n\u001b[0;32m   3811\u001b[0m         \u001b[38;5;28;01mraise\u001b[39;00m InvalidIndexError(key)\n\u001b[1;32m-> 3812\u001b[0m     \u001b[38;5;28;01mraise\u001b[39;00m \u001b[38;5;167;01mKeyError\u001b[39;00m(key) \u001b[38;5;28;01mfrom\u001b[39;00m \u001b[38;5;21;01merr\u001b[39;00m\n\u001b[0;32m   3813\u001b[0m \u001b[38;5;28;01mexcept\u001b[39;00m \u001b[38;5;167;01mTypeError\u001b[39;00m:\n\u001b[0;32m   3814\u001b[0m     \u001b[38;5;66;03m# If we have a listlike key, _check_indexing_error will raise\u001b[39;00m\n\u001b[0;32m   3815\u001b[0m     \u001b[38;5;66;03m#  InvalidIndexError. Otherwise we fall through and re-raise\u001b[39;00m\n\u001b[0;32m   3816\u001b[0m     \u001b[38;5;66;03m#  the TypeError.\u001b[39;00m\n\u001b[0;32m   3817\u001b[0m     \u001b[38;5;28mself\u001b[39m\u001b[38;5;241m.\u001b[39m_check_indexing_error(key)\n",
      "\u001b[1;31mKeyError\u001b[0m: 'Release_Date'"
     ]
    }
   ],
   "source": [
    "df['Release_Date'] = pd.to_datetime(df['Release_Date'])"
   ]
  },
  {
   "cell_type": "code",
   "execution_count": null,
   "id": "0876f287-e029-45ba-a414-29fd6cc5482d",
   "metadata": {},
   "outputs": [],
   "source": [
    "df['Release_Year'] = df['Release_Date'].dt.year"
   ]
  },
  {
   "cell_type": "code",
   "execution_count": null,
   "id": "58b84fe5-074c-4856-84c0-4a919c4b233e",
   "metadata": {},
   "outputs": [],
   "source": [
    "df['Release_Month'] = df['Release_Date'].dt.strftime('%B')\n",
    "df.head(1)"
   ]
  },
  {
   "cell_type": "code",
   "execution_count": null,
   "id": "6af58ba4-6f11-449b-b06f-48e31fc6b417",
   "metadata": {},
   "outputs": [],
   "source": [
    "df = df.drop(['Overview', 'Poster_Url', 'Release_Date'], axis=1)"
   ]
  },
  {
   "cell_type": "code",
   "execution_count": null,
   "id": "5ff274aa-2d72-4c35-987f-51a7be9b3851",
   "metadata": {},
   "outputs": [],
   "source": [
    "df['Original_Language'].value_counts().head(10)\n",
    "\n",
    "data = {'Original_Language': ['en', 'ja', 'es', 'fr', 'ko', 'zh', 'it', 'cn', 'ru', 'de', 'pt']}\n",
    "language = pd.DataFrame(data)\n",
    "lang_map = {\n",
    "    'en': 'English',\n",
    "    'ja': 'Japanese',\n",
    "    'es': 'Spanish',\n",
    "    'fr': 'French',\n",
    "    'ko': 'Korean',\n",
    "    'zh': 'Chinese (Mandarin)',\n",
    "    'it': 'Italian',\n",
    "    'cn': 'Chinese (Simplified)',\n",
    "    'ru': 'Russian',\n",
    "    'de': 'German',\n",
    "    'pt': 'Portuguese'\n",
    "}\n",
    "df['Original_Language'] = language['Original_Language'].replace(lang_map)"
   ]
  },
  {
   "cell_type": "code",
   "execution_count": null,
   "id": "a10d0c42-db7d-42ae-b6d1-e350f97735c3",
   "metadata": {},
   "outputs": [],
   "source": [
    "df.head(1)"
   ]
  },
  {
   "cell_type": "code",
   "execution_count": null,
   "id": "a9d971e0-b6d3-41fd-8225-71eb5432a298",
   "metadata": {},
   "outputs": [],
   "source": [
    "def catigorize_columns(df, col, labels):\n",
    "    category = [\n",
    "        df[col].min(),               \n",
    "        df[col].quantile(0.25),     \n",
    "        df[col].quantile(0.50),     \n",
    "        df[col].quantile(0.75),\n",
    "        df[col].max() + 0.1 \n",
    "    ]\n",
    "    df['Vote_Avg'] = pd.cut(df[col], bins=category, labels=labels, include_lowest=True, duplicates='drop')\n",
    "    return df"
   ]
  },
  {
   "cell_type": "code",
   "execution_count": null,
   "id": "2c681199-522a-49a5-a5b7-ecaf22c8b5e3",
   "metadata": {},
   "outputs": [],
   "source": [
    "labels = ['Not_Popular', 'Below_Avg', 'Average', 'Popular']\n",
    "\n",
    "df = catigorize_columns(df, 'Vote_Average', labels)\n",
    "df.head(2)"
   ]
  },
  {
   "cell_type": "code",
   "execution_count": null,
   "id": "9ae3eb45-91f8-468e-9772-d5b081de45b4",
   "metadata": {},
   "outputs": [],
   "source": [
    "df.nunique()"
   ]
  },
  {
   "cell_type": "markdown",
   "id": "27ca210f-4df9-4a60-aae8-57ad44a3f10d",
   "metadata": {},
   "source": [
    "# EDA (Exploratory Data Analysis)"
   ]
  },
  {
   "cell_type": "code",
   "execution_count": null,
   "id": "334e69fd-c3ab-4eda-b7c8-39aa00c6fc5b",
   "metadata": {},
   "outputs": [],
   "source": [
    "sns.set_style('whitegrid')"
   ]
  },
  {
   "cell_type": "code",
   "execution_count": null,
   "id": "19113138-0787-4b95-96dd-9a887c7d26ef",
   "metadata": {},
   "outputs": [],
   "source": [
    "sns.countplot(data=df, x='Vote_Avg', palette='magma')\n",
    "plt.title('Distribution of Vote Averages', fontsize=16)\n",
    "plt.xlabel('Vote Average (Rounded)', fontsize=12)\n",
    "plt.ylabel('Count', fontsize=12)\n",
    "plt.show()"
   ]
  },
  {
   "cell_type": "code",
   "execution_count": null,
   "id": "dfb02a7c-e31b-4760-a0a3-87365888c711",
   "metadata": {},
   "outputs": [],
   "source": [
    "data = df.select_dtypes(include=['int64', 'float64'])\n",
    "\n",
    "plt.figure(figsize=(8,4))\n",
    "sns.heatmap(data.corr(), annot=True, cmap='coolwarm')"
   ]
  },
  {
   "cell_type": "code",
   "execution_count": null,
   "id": "d83668d9-60a1-4071-a47b-3e9498874067",
   "metadata": {},
   "outputs": [],
   "source": [
    "plt.figure(figsize=(10,5))\n",
    "sns.pairplot(data)\n",
    "plt.show()"
   ]
  },
  {
   "cell_type": "markdown",
   "id": "7c5300bf-5eaf-4aac-8e50-00220243d8be",
   "metadata": {},
   "source": [
    "# Data Visualization"
   ]
  },
  {
   "cell_type": "markdown",
   "id": "dd24b00c-0871-442d-86d3-2074c0284528",
   "metadata": {},
   "source": [
    "## Most frequent genre of movies released on Netflix"
   ]
  },
  {
   "cell_type": "code",
   "execution_count": null,
   "id": "becab82c-defa-472c-bc3c-0bda5a1565c5",
   "metadata": {},
   "outputs": [],
   "source": [
    "genre = df['Genre'].value_counts(sort=True).head(12)\n",
    "freq_genre = pd.DataFrame(genre)\n",
    "freq_genre.columns = ['total_freq']\n",
    "freq_genre = freq_genre.reset_index()\n",
    "freq_genre.columns = ['genre', 'total_freq']"
   ]
  },
  {
   "cell_type": "code",
   "execution_count": null,
   "id": "8d491213-2ce6-42ea-b211-2de6482610a8",
   "metadata": {},
   "outputs": [],
   "source": [
    "freq_genre['total_freq'][0]\n",
    "\n",
    "freq_genre['percentage'] = (freq_genre['total_freq'] / freq_genre['total_freq'].sum()) * 100\n",
    "freq_genre.head(5)"
   ]
  },
  {
   "cell_type": "code",
   "execution_count": null,
   "id": "978569c2-7f0d-4eee-943f-1dfaaae6568a",
   "metadata": {},
   "outputs": [],
   "source": [
    "plt.figure(figsize=(9,5))\n",
    "sns.barplot(data=freq_genre, x='genre', y = 'total_freq', palette=\"magma\")\n",
    "plt.title('Distribution of Genre Based On Frequency', fontsize=16)\n",
    "plt.xlabel('Genre Name', fontsize=12)\n",
    "plt.ylabel('Count', fontsize=12)\n",
    "plt.xticks(rotation=60)\n",
    "plt.show()"
   ]
  },
  {
   "cell_type": "markdown",
   "id": "bb75829b-a78a-411e-b451-5ae7b3cc9087",
   "metadata": {},
   "source": [
    "## Which has highest votes avg column?"
   ]
  },
  {
   "cell_type": "code",
   "execution_count": null,
   "id": "47b8d662-c16f-47fc-b80d-3c94a7a679df",
   "metadata": {},
   "outputs": [],
   "source": [
    "df.head(3)"
   ]
  },
  {
   "cell_type": "code",
   "execution_count": null,
   "id": "7a290cc4-edea-48fd-95f0-e6573c974cfd",
   "metadata": {},
   "outputs": [],
   "source": [
    "sns.catplot(y='Vote_Avg', data=df, kind='count',\n",
    "    order=df['Vote_Avg'].value_counts().index, palette='magma')\n",
    "plt.title('Distribution Of Votes', fontsize=16)\n",
    "plt.xlabel('Votes Types', fontsize=12)\n",
    "plt.ylabel('Count', fontsize=12)\n",
    "plt.show()"
   ]
  },
  {
   "cell_type": "markdown",
   "id": "8526f518-b36d-4ca3-90dc-31ac350bf27d",
   "metadata": {},
   "source": [
    "## What movie got the highest popularity? What's its genre?"
   ]
  },
  {
   "cell_type": "code",
   "execution_count": null,
   "id": "7e38aa04-23dc-499d-b94c-b4667445364b",
   "metadata": {},
   "outputs": [],
   "source": [
    "df.head(2)"
   ]
  },
  {
   "cell_type": "code",
   "execution_count": null,
   "id": "8b903284-0f71-4864-87af-797ee40ae7ff",
   "metadata": {},
   "outputs": [],
   "source": [
    "df[df['Popularity'] == df['Popularity'].max()]"
   ]
  },
  {
   "cell_type": "markdown",
   "id": "95742355-ab05-4112-80d9-8ef2b634fa27",
   "metadata": {},
   "source": [
    "## What movie got the lowest popularity? What's its genre?"
   ]
  },
  {
   "cell_type": "code",
   "execution_count": null,
   "id": "e0e681b8-6cbf-4230-83df-8b6a5e0683a6",
   "metadata": {},
   "outputs": [],
   "source": [
    "df[df['Popularity'] == df['Popularity'].min()]"
   ]
  },
  {
   "cell_type": "markdown",
   "id": "5271e018-8202-4885-be13-894bee556c58",
   "metadata": {},
   "source": [
    "## Which year has the most filmmed movies?"
   ]
  },
  {
   "cell_type": "code",
   "execution_count": null,
   "id": "a7ddd843-b27b-46c9-9054-8f1c1d02e91a",
   "metadata": {},
   "outputs": [],
   "source": [
    "year = df['Release_Year'].value_counts().head(10)\n",
    "release_year = pd.DataFrame(year)\n",
    "release_year = release_year.reset_index()\n",
    "\n",
    "release_year.columns = ['year', 'count']\n"
   ]
  },
  {
   "cell_type": "code",
   "execution_count": null,
   "id": "6a6cac04-0d84-4c02-a229-f4c17e3d92cd",
   "metadata": {},
   "outputs": [],
   "source": [
    "plt.figure(figsize=(10, 6))\n",
    "explode = [0.1 if i == release_year['count'].max() else 0 for i in release_year['count']]\n",
    "plt.pie(\n",
    "    release_year['count'],\n",
    "    labels=release_year['year'],\n",
    "    autopct='%1.1f%%',            \n",
    "    startangle=140,              \n",
    "    explode=explode,              \n",
    "    shadow=True                  \n",
    ")\n",
    "plt.title('Movie Releases By Year', fontsize=14)\n",
    "plt.axis('equal') \n",
    "plt.tight_layout()\n",
    "plt.show()"
   ]
  },
  {
   "cell_type": "markdown",
   "id": "6d86d80f-b03e-4457-b5e8-98f640b4dcd8",
   "metadata": {},
   "source": [
    "## Total Movie Count per Release Month by Average Vote"
   ]
  },
  {
   "cell_type": "code",
   "execution_count": null,
   "id": "746b5bf6-74bb-4738-a82b-9d4318ecdcdd",
   "metadata": {},
   "outputs": [],
   "source": [
    "month_order = ['January', 'February', 'March', 'April', 'May', 'June', \n",
    "               'July', 'August', 'September', 'October', 'November', 'December']\n",
    "plt.figure(figsize=(15,7))\n",
    "sns.countplot(data=df, x='Release_Month', hue='Vote_Avg', order=month_order, palette='magma')\n",
    "plt.title('Movie Count per Release Month by Average Vote', fontsize=16)\n",
    "plt.xlabel('Release Month', fontsize=12)\n",
    "plt.ylabel('Number of Movies', fontsize=12)\n",
    "plt.xticks(rotation=45)\n",
    "plt.tight_layout()\n",
    "plt.show()"
   ]
  },
  {
   "cell_type": "markdown",
   "id": "6f41facf-d364-4cda-8c51-ae8872ea261c",
   "metadata": {},
   "source": [
    "## Top 10 movies based on their popularity release on the Netflix"
   ]
  },
  {
   "cell_type": "code",
   "execution_count": null,
   "id": "a09aba89-4151-43ac-bdca-8eb4620efd99",
   "metadata": {},
   "outputs": [],
   "source": [
    "top_10_movies = df.sort_values(by='Popularity', ascending=False).head(10)\n",
    "top_10_movies[['Title', 'Popularity']].head(5)"
   ]
  },
  {
   "cell_type": "code",
   "execution_count": null,
   "id": "b8afbff2-cc88-45c0-81e6-ee95290a7c91",
   "metadata": {},
   "outputs": [],
   "source": [
    "plt.figure(figsize=(10,5))\n",
    "sns.barplot(data=top_10_movies, x='Title', y='Popularity', palette='magma')\n",
    "plt.title('Top 10 movies Based on their Popularity', fontsize=16)\n",
    "plt.xlabel('Movies Title/Names', fontsize=12)\n",
    "plt.ylabel('Popularity', fontsize=12)\n",
    "plt.xticks(rotation=90)\n",
    "plt.show()"
   ]
  },
  {
   "cell_type": "markdown",
   "id": "21b9ac4d-11d6-4528-9a27-301913c5360e",
   "metadata": {},
   "source": [
    "### Q1: What is the most frequent genre in the dataset?\n",
    "#### Drama genre is the most frequent genre in our dataset and has appeared more than 18.92% of the times among 19 other genres."
   ]
  },
  {
   "cell_type": "markdown",
   "id": "139542fa-bf4c-4646-8631-8116bb38894c",
   "metadata": {},
   "source": [
    "### Q2: What genres has highest votes?\n",
    "#### We have 25.5% of our dataset with not popular vote (2560 rows). Drama again gets the highest popularity among fans by being having more than 18.5% of movies popularities."
   ]
  },
  {
   "cell_type": "markdown",
   "id": "3a87c1e6-4c73-42e2-b187-a741289403e2",
   "metadata": {},
   "source": [
    "### Q3: What movie got the highest popularity ? what's its genre?\n",
    "#### Spider-Man; No Way Home has the highest popularity rate in our dataset and it has genres of Action , Adventure and Sience Fiction ."
   ]
  },
  {
   "cell_type": "markdown",
   "id": "87e71200-f699-436a-8ee1-d09ee65efebf",
   "metadata": {},
   "source": [
    "### Q4: What movie got the lowest popularity ? what's its genre?\n",
    "#### The united states, thread' has the highest lowest rate in our dataset 'sci-fi' and history'. and it has genres of music , drama 'war'"
   ]
  },
  {
   "cell_type": "markdown",
   "id": "6d3d6bb1-159d-4ca4-b810-ee12a9b46b9e",
   "metadata": {},
   "source": [
    "### Q5: Which year has the most filmmed movies?\n",
    "#### Year 2020 has the highest filmming rate in our dataset."
   ]
  }
 ],
 "metadata": {
  "kernelspec": {
   "display_name": "Python 3 (ipykernel)",
   "language": "python",
   "name": "python3"
  },
  "language_info": {
   "codemirror_mode": {
    "name": "ipython",
    "version": 3
   },
   "file_extension": ".py",
   "mimetype": "text/x-python",
   "name": "python",
   "nbconvert_exporter": "python",
   "pygments_lexer": "ipython3",
   "version": "3.13.3"
  },
  "widgets": {
   "application/vnd.jupyter.widget-state+json": {
    "state": {},
    "version_major": 2,
    "version_minor": 0
   }
  }
 },
 "nbformat": 4,
 "nbformat_minor": 5
}

{
 "cells": [
  {
   "cell_type": "code",
   "execution_count": 1,
   "id": "55c9d9de-9d3e-4bf5-b7dc-43205ee4a82f",
   "metadata": {},
   "outputs": [],
   "source": [
    "import numpy as np\n",
    "import pandas as pd\n",
    "import matplotlib.pyplot as plt\n",
    "import seaborn as sns\n",
    "import mysql.connector\n",
    "db = mysql.connector.connect(host = 'localhost',\n",
    "                              user = 'root',\n",
    "                              password = '123456',\n",
    "                              database = 'pizzahut')\n",
    "cur = db.cursor()"
   ]
  },
  {
   "cell_type": "markdown",
   "id": "6f585b2c-8c31-47bc-aae2-5f2aecd3f4dd",
   "metadata": {},
   "source": [
    "# Retrieve the total number of orders placed."
   ]
  },
  {
   "cell_type": "code",
   "execution_count": 2,
   "id": "efdd06c3-d8bd-478a-b12f-a4aa36a017d7",
   "metadata": {},
   "outputs": [
    {
     "name": "stdout",
     "output_type": "stream",
     "text": [
      "   Total Orders\n",
      "0         21350\n"
     ]
    }
   ],
   "source": [
    "query = \"\"\" select count(order_id) from orders \"\"\"\n",
    "cur.execute(query)\n",
    "data = cur.fetchall()\n",
    "df = pd.DataFrame(data, columns = ['Total Orders'])\n",
    "print(df)"
   ]
  },
  {
   "cell_type": "markdown",
   "id": "b78ccffc-cb9b-4915-ba05-131ca38a64c7",
   "metadata": {},
   "source": [
    "# Find The Second Highest Price Of A Pizza"
   ]
  },
  {
   "cell_type": "code",
   "execution_count": 14,
   "id": "5c84a6a3-01b2-4826-be08-63423c7716b2",
   "metadata": {},
   "outputs": [
    {
     "data": {
      "text/html": [
       "<div>\n",
       "<style scoped>\n",
       "    .dataframe tbody tr th:only-of-type {\n",
       "        vertical-align: middle;\n",
       "    }\n",
       "\n",
       "    .dataframe tbody tr th {\n",
       "        vertical-align: top;\n",
       "    }\n",
       "\n",
       "    .dataframe thead th {\n",
       "        text-align: right;\n",
       "    }\n",
       "</style>\n",
       "<table border=\"1\" class=\"dataframe\">\n",
       "  <thead>\n",
       "    <tr style=\"text-align: right;\">\n",
       "      <th></th>\n",
       "      <th>0</th>\n",
       "    </tr>\n",
       "  </thead>\n",
       "  <tbody>\n",
       "    <tr>\n",
       "      <th>0</th>\n",
       "      <td>25.5</td>\n",
       "    </tr>\n",
       "  </tbody>\n",
       "</table>\n",
       "</div>"
      ],
      "text/plain": [
       "      0\n",
       "0  25.5"
      ]
     },
     "execution_count": 14,
     "metadata": {},
     "output_type": "execute_result"
    }
   ],
   "source": [
    "query = \"\"\" select max(pizzas.price) as sec_max from pizzas\n",
    "where pizzas.price < (select max(pizzas.price) from pizzas)\"\"\"\n",
    "cur.execute(query);\n",
    "data = cur.fetchall();\n",
    "df = pd.DataFrame(data);\n",
    "df"
   ]
  },
  {
   "cell_type": "markdown",
   "id": "496d9ac9-8f29-4aa9-8601-47f40d7c9411",
   "metadata": {},
   "source": [
    "# Calculate the total revenue generated from pizza sales."
   ]
  },
  {
   "cell_type": "code",
   "execution_count": 3,
   "id": "87f67ff0-da40-41c8-be80-b4988b26ebd3",
   "metadata": {},
   "outputs": [
    {
     "data": {
      "text/plain": [
       "817860.05"
      ]
     },
     "execution_count": 3,
     "metadata": {},
     "output_type": "execute_result"
    }
   ],
   "source": [
    "query = \"\"\" select round(sum(price * order_details.quantity),2) from pizzas\n",
    "join order_details\n",
    "on order_details.pizza_id = pizzas.pizza_id \"\"\"\n",
    "cur.execute(query)\n",
    "data = cur.fetchall()\n",
    "data[0][0]"
   ]
  },
  {
   "cell_type": "markdown",
   "id": "9b1498f2-78c2-44f0-8a04-94e4b0e0f683",
   "metadata": {},
   "source": [
    "# Identify the highest-priced pizza."
   ]
  },
  {
   "cell_type": "code",
   "execution_count": 4,
   "id": "66dd0edd-60c0-46d1-ba00-38522dd56e5a",
   "metadata": {},
   "outputs": [
    {
     "data": {
      "text/plain": [
       "'The Greek Pizza'"
      ]
     },
     "execution_count": 4,
     "metadata": {},
     "output_type": "execute_result"
    }
   ],
   "source": [
    "query = \"\"\" select pizza_types.name, price from pizzas\n",
    "join pizza_types\n",
    "on pizzas.pizza_type_id = pizza_types.pizza_type_id\n",
    "order by pizzas.price desc limit 1 \"\"\"\n",
    "cur.execute(query)\n",
    "data = cur.fetchall()\n",
    "data[0][0]"
   ]
  },
  {
   "cell_type": "markdown",
   "id": "a4254412-250f-401e-a996-18bb162e3310",
   "metadata": {},
   "source": [
    "# Identify the lowest-priced pizza."
   ]
  },
  {
   "cell_type": "code",
   "execution_count": 5,
   "id": "87378669-5e71-483c-9523-ec9c81af7e47",
   "metadata": {},
   "outputs": [
    {
     "data": {
      "text/plain": [
       "'The Pepperoni Pizza'"
      ]
     },
     "execution_count": 5,
     "metadata": {},
     "output_type": "execute_result"
    }
   ],
   "source": [
    "query = \"\"\" select pizza_types.name, price from pizzas\n",
    "join pizza_types\n",
    "on pizzas.pizza_type_id = pizza_types.pizza_type_id\n",
    "order by pizzas.price asc limit 1 \"\"\"\n",
    "cur.execute(query)\n",
    "data = cur.fetchall()\n",
    "data[0][0]"
   ]
  },
  {
   "cell_type": "markdown",
   "id": "5fe00496-c506-43d9-857d-e7fcfd8ac71f",
   "metadata": {},
   "source": [
    "# Identify the most common pizza size ordered."
   ]
  },
  {
   "cell_type": "code",
   "execution_count": 6,
   "id": "f8a4390c-895b-4e77-acd2-e9489e35098d",
   "metadata": {},
   "outputs": [
    {
     "name": "stdout",
     "output_type": "stream",
     "text": [
      "  pizza size  ordered num\n",
      "0          L        18526\n",
      "1          M        15385\n",
      "2          S        14137\n",
      "3         XL          544\n",
      "4        XXL           28\n"
     ]
    },
    {
     "data": {
      "image/png": "[encoded data removed]",
      "text/plain": [
       "<Figure size 640x480 with 1 Axes>"
      ]
     },
     "metadata": {},
     "output_type": "display_data"
    }
   ],
   "source": [
    "query = \"\"\" select size, count(quantity) as count from pizzas\n",
    "join order_details\n",
    "on order_details.pizza_id = pizzas.pizza_id\n",
    "group by pizzas.size\n",
    "order by count desc \"\"\"\n",
    "cur.execute(query)\n",
    "data = cur.fetchall()\n",
    "df = pd.DataFrame(data, columns = ['pizza size', 'ordered num'])\n",
    "print(df)\n",
    "ex = [0,0.1,0,0,0]\n",
    "plt.pie(x = df['ordered num'], labels = df['pizza size'], autopct = \"%.2f\", explode = ex, shadow=True)\n",
    "plt.show()"
   ]
  },
  {
   "cell_type": "markdown",
   "id": "eaa0c5d6-7b02-407e-83ad-704412f028cf",
   "metadata": {},
   "source": [
    "# List the top 10 most ordered pizza types along with their quantities."
   ]
  },
  {
   "cell_type": "code",
   "execution_count": 7,
   "id": "3642c888-3ef7-4912-8e91-b8980c08bda1",
   "metadata": {},
   "outputs": [
    {
     "name": "stdout",
     "output_type": "stream",
     "text": [
      "                     pizza name qty ord\n",
      "0      The Classic Deluxe Pizza    2453\n",
      "1    The Barbecue Chicken Pizza    2432\n",
      "2            The Hawaiian Pizza    2422\n",
      "3           The Pepperoni Pizza    2418\n",
      "4        The Thai Chicken Pizza    2371\n",
      "5  The California Chicken Pizza    2370\n",
      "6            The Sicilian Pizza    1938\n",
      "7       The Spicy Italian Pizza    1924\n",
      "8   The Southwest Chicken Pizza    1917\n",
      "9            The Big Meat Pizza    1914\n"
     ]
    },
    {
     "data": {
      "image/png": "[encoded data removed]",
      "text/plain": [
       "<Figure size 640x480 with 1 Axes>"
      ]
     },
     "metadata": {},
     "output_type": "display_data"
    }
   ],
   "source": [
    "query = \"\"\" select pizza_types.name, sum(order_details.quantity) as 'ordered' from pizza_types\n",
    "join pizzas\n",
    "on pizza_types.pizza_type_id = pizzas.pizza_type_id\n",
    "join order_details\n",
    "on order_details.pizza_id = pizzas.pizza_id\n",
    "group by pizza_types.name\n",
    "order by ordered desc limit 10 \"\"\"\n",
    "cur.execute(query)\n",
    "data = cur.fetchall()\n",
    "df = pd.DataFrame(data, columns = ['pizza name', 'qty ord'])\n",
    "print(df)\n",
    "sns.barplot(data = df, x = 'pizza name', y = 'qty ord', )\n",
    "plt.show()"
   ]
  },
  {
   "cell_type": "markdown",
   "id": "21356c55-7b64-410e-b644-8195794447ee",
   "metadata": {},
   "source": [
    "# Join the necessary tables to find the total quantity of each pizza category ordered."
   ]
  },
  {
   "cell_type": "code",
   "execution_count": 8,
   "id": "eaea67fa-cbd2-400f-8c78-8d730af175c1",
   "metadata": {},
   "outputs": [
    {
     "data": {
      "text/html": [
       "<div>\n",
       "<style scoped>\n",
       "    .dataframe tbody tr th:only-of-type {\n",
       "        vertical-align: middle;\n",
       "    }\n",
       "\n",
       "    .dataframe tbody tr th {\n",
       "        vertical-align: top;\n",
       "    }\n",
       "\n",
       "    .dataframe thead th {\n",
       "        text-align: right;\n",
       "    }\n",
       "</style>\n",
       "<table border=\"1\" class=\"dataframe\">\n",
       "  <thead>\n",
       "    <tr style=\"text-align: right;\">\n",
       "      <th></th>\n",
       "      <th>category</th>\n",
       "      <th>quantity order</th>\n",
       "    </tr>\n",
       "  </thead>\n",
       "  <tbody>\n",
       "    <tr>\n",
       "      <th>0</th>\n",
       "      <td>Classic</td>\n",
       "      <td>14888</td>\n",
       "    </tr>\n",
       "    <tr>\n",
       "      <th>1</th>\n",
       "      <td>Veggie</td>\n",
       "      <td>11649</td>\n",
       "    </tr>\n",
       "    <tr>\n",
       "      <th>2</th>\n",
       "      <td>Supreme</td>\n",
       "      <td>11987</td>\n",
       "    </tr>\n",
       "    <tr>\n",
       "      <th>3</th>\n",
       "      <td>Chicken</td>\n",
       "      <td>11050</td>\n",
       "    </tr>\n",
       "  </tbody>\n",
       "</table>\n",
       "</div>"
      ],
      "text/plain": [
       "  category quantity order\n",
       "0  Classic          14888\n",
       "1   Veggie          11649\n",
       "2  Supreme          11987\n",
       "3  Chicken          11050"
      ]
     },
     "execution_count": 8,
     "metadata": {},
     "output_type": "execute_result"
    }
   ],
   "source": [
    "query = \"\"\" select pizza_types.category, sum(order_details.quantity) from pizza_types\n",
    "join pizzas\n",
    "on pizza_types.pizza_type_id = pizzas.pizza_type_id\n",
    "join order_details\n",
    "on pizzas.pizza_id = order_details.pizza_id\n",
    "group by pizza_types.category \"\"\"\n",
    "cur.execute(query)\n",
    "data = cur.fetchall()\n",
    "df = pd.DataFrame(data, columns = ['category', 'quantity order'])\n",
    "df"
   ]
  },
  {
   "cell_type": "markdown",
   "id": "37f0c6b4-1995-4836-9884-e84a2552a4b2",
   "metadata": {},
   "source": [
    "# Determine the distribution of orders by hour of the day."
   ]
  },
  {
   "cell_type": "code",
   "execution_count": 9,
   "id": "b6ac56d3-2878-4d8b-83a6-62f4a252899e",
   "metadata": {},
   "outputs": [
    {
     "name": "stdout",
     "output_type": "stream",
     "text": [
      "    order/hours  quantity order\n",
      "0            11            1231\n",
      "1            12            2520\n",
      "2            13            2455\n",
      "3            14            1472\n",
      "4            15            1468\n",
      "5            16            1920\n",
      "6            17            2336\n",
      "7            18            2399\n",
      "8            19            2009\n",
      "9            20            1642\n",
      "10           21            1198\n",
      "11           22             663\n",
      "12           23              28\n",
      "13           10               8\n",
      "14            9               1\n"
     ]
    }
   ],
   "source": [
    "query = \"\"\" select hour(orders.time), count(orders.order_id) as order_count from orders\n",
    "group by hour(orders.time) \"\"\"\n",
    "cur.execute(query)\n",
    "data = cur.fetchall()\n",
    "df = pd.DataFrame(data, columns = ['order/hours', 'quantity order'])\n",
    "print(df)"
   ]
  },
  {
   "cell_type": "markdown",
   "id": "e964cd6e-d345-4fbf-ae9b-d2e0aac7e9d9",
   "metadata": {},
   "source": [
    "# Join relevant tables to find the category-wise distribution of pizzas."
   ]
  },
  {
   "cell_type": "code",
   "execution_count": 10,
   "id": "767156de-22d9-4184-84c0-32db47eac380",
   "metadata": {},
   "outputs": [
    {
     "data": {
      "text/html": [
       "<div>\n",
       "<style scoped>\n",
       "    .dataframe tbody tr th:only-of-type {\n",
       "        vertical-align: middle;\n",
       "    }\n",
       "\n",
       "    .dataframe tbody tr th {\n",
       "        vertical-align: top;\n",
       "    }\n",
       "\n",
       "    .dataframe thead th {\n",
       "        text-align: right;\n",
       "    }\n",
       "</style>\n",
       "<table border=\"1\" class=\"dataframe\">\n",
       "  <thead>\n",
       "    <tr style=\"text-align: right;\">\n",
       "      <th></th>\n",
       "      <th>pizza category</th>\n",
       "      <th>quantity pizza</th>\n",
       "      <th>Total Price</th>\n",
       "    </tr>\n",
       "  </thead>\n",
       "  <tbody>\n",
       "    <tr>\n",
       "      <th>0</th>\n",
       "      <td>Veggie</td>\n",
       "      <td>864</td>\n",
       "      <td>14204.7</td>\n",
       "    </tr>\n",
       "    <tr>\n",
       "      <th>1</th>\n",
       "      <td>Supreme</td>\n",
       "      <td>864</td>\n",
       "      <td>14204.7</td>\n",
       "    </tr>\n",
       "    <tr>\n",
       "      <th>2</th>\n",
       "      <td>Classic</td>\n",
       "      <td>768</td>\n",
       "      <td>12626.4</td>\n",
       "    </tr>\n",
       "    <tr>\n",
       "      <th>3</th>\n",
       "      <td>Chicken</td>\n",
       "      <td>576</td>\n",
       "      <td>9469.8</td>\n",
       "    </tr>\n",
       "  </tbody>\n",
       "</table>\n",
       "</div>"
      ],
      "text/plain": [
       "  pizza category  quantity pizza  Total Price\n",
       "0         Veggie             864      14204.7\n",
       "1        Supreme             864      14204.7\n",
       "2        Classic             768      12626.4\n",
       "3        Chicken             576       9469.8"
      ]
     },
     "execution_count": 10,
     "metadata": {},
     "output_type": "execute_result"
    }
   ],
   "source": [
    "query = \"\"\" select pizza_types.category, count(pizza_types.name), round(sum(pizzas.price),2) \n",
    "from pizza_types\n",
    "join pizzas\n",
    "group by pizza_types.category \"\"\"\n",
    "cur.execute(query)\n",
    "data = cur.fetchall()\n",
    "df = pd.DataFrame(data, columns = ['pizza category', 'quantity pizza', 'Total Price'])\n",
    "df"
   ]
  },
  {
   "cell_type": "markdown",
   "id": "ac49e103-313e-4007-816d-ee97a52a4193",
   "metadata": {},
   "source": [
    "# Group the orders by date and calculate the average number of pizzas ordered per day."
   ]
  },
  {
   "cell_type": "code",
   "execution_count": 11,
   "id": "37f905d1-6b55-43c9-91ac-89f209cb4dc6",
   "metadata": {},
   "outputs": [
    {
     "data": {
      "text/html": [
       "<div>\n",
       "<style scoped>\n",
       "    .dataframe tbody tr th:only-of-type {\n",
       "        vertical-align: middle;\n",
       "    }\n",
       "\n",
       "    .dataframe tbody tr th {\n",
       "        vertical-align: top;\n",
       "    }\n",
       "\n",
       "    .dataframe thead th {\n",
       "        text-align: right;\n",
       "    }\n",
       "</style>\n",
       "<table border=\"1\" class=\"dataframe\">\n",
       "  <thead>\n",
       "    <tr style=\"text-align: right;\">\n",
       "      <th></th>\n",
       "      <th>avg order/day</th>\n",
       "    </tr>\n",
       "  </thead>\n",
       "  <tbody>\n",
       "    <tr>\n",
       "      <th>0</th>\n",
       "      <td>135.81</td>\n",
       "    </tr>\n",
       "  </tbody>\n",
       "</table>\n",
       "</div>"
      ],
      "text/plain": [
       "  avg order/day\n",
       "0        135.81"
      ]
     },
     "execution_count": 11,
     "metadata": {},
     "output_type": "execute_result"
    }
   ],
   "source": [
    "query = \"\"\" select round(avg(quantity),2) from \n",
    "        (select orders.date, count(order_details.quantity) as quantity from orders\n",
    "        join order_details \n",
    "        on order_details.order_id = orders.order_id\n",
    "        group by orders.date) as a \"\"\"\n",
    "cur.execute(query)\n",
    "data = cur.fetchall()\n",
    "df = pd.DataFrame(data, columns=['avg order/day'])\n",
    "df"
   ]
  },
  {
   "cell_type": "markdown",
   "id": "d948ae20-b006-4460-98f3-ed3212b9dbbf",
   "metadata": {},
   "source": [
    "# Determine the top 3 most ordered pizza types based on revenue."
   ]
  },
  {
   "cell_type": "code",
   "execution_count": 12,
   "id": "69c097d6-a656-4ac8-b77b-4cc6eefc36e3",
   "metadata": {},
   "outputs": [
    {
     "data": {
      "text/html": [
       "<div>\n",
       "<style scoped>\n",
       "    .dataframe tbody tr th:only-of-type {\n",
       "        vertical-align: middle;\n",
       "    }\n",
       "\n",
       "    .dataframe tbody tr th {\n",
       "        vertical-align: top;\n",
       "    }\n",
       "\n",
       "    .dataframe thead th {\n",
       "        text-align: right;\n",
       "    }\n",
       "</style>\n",
       "<table border=\"1\" class=\"dataframe\">\n",
       "  <thead>\n",
       "    <tr style=\"text-align: right;\">\n",
       "      <th></th>\n",
       "      <th>pizza name</th>\n",
       "      <th>revenue</th>\n",
       "    </tr>\n",
       "  </thead>\n",
       "  <tbody>\n",
       "    <tr>\n",
       "      <th>0</th>\n",
       "      <td>The Thai Chicken Pizza</td>\n",
       "      <td>43434.25</td>\n",
       "    </tr>\n",
       "    <tr>\n",
       "      <th>1</th>\n",
       "      <td>The Barbecue Chicken Pizza</td>\n",
       "      <td>42768.00</td>\n",
       "    </tr>\n",
       "    <tr>\n",
       "      <th>2</th>\n",
       "      <td>The California Chicken Pizza</td>\n",
       "      <td>41409.50</td>\n",
       "    </tr>\n",
       "    <tr>\n",
       "      <th>3</th>\n",
       "      <td>The Classic Deluxe Pizza</td>\n",
       "      <td>38180.50</td>\n",
       "    </tr>\n",
       "    <tr>\n",
       "      <th>4</th>\n",
       "      <td>The Spicy Italian Pizza</td>\n",
       "      <td>34831.25</td>\n",
       "    </tr>\n",
       "  </tbody>\n",
       "</table>\n",
       "</div>"
      ],
      "text/plain": [
       "                     pizza name   revenue\n",
       "0        The Thai Chicken Pizza  43434.25\n",
       "1    The Barbecue Chicken Pizza  42768.00\n",
       "2  The California Chicken Pizza  41409.50\n",
       "3      The Classic Deluxe Pizza  38180.50\n",
       "4       The Spicy Italian Pizza  34831.25"
      ]
     },
     "execution_count": 12,
     "metadata": {},
     "output_type": "execute_result"
    }
   ],
   "source": [
    "query = \"\"\" select pizza_types.name, round(sum(pizzas.price * order_details.quantity),2) as revenue from pizza_types\n",
    "join pizzas\n",
    "on pizzas.pizza_type_id = pizza_types.pizza_type_id\n",
    "join order_details\n",
    "on order_details.pizza_id = pizzas.pizza_id\n",
    "group by pizza_types.name\n",
    "order by revenue desc limit 5 \"\"\"\n",
    "cur.execute(query)\n",
    "data = cur.fetchall()\n",
    "df = pd.DataFrame(data, columns=['pizza name', 'revenue'])\n",
    "df"
   ]
  },
  {
   "cell_type": "markdown",
   "id": "ef3f854f-a444-4de6-82ec-2c2d513f7470",
   "metadata": {},
   "source": [
    "# Calculate the percentage contribution of each pizza type to total revenue."
   ]
  },
  {
   "cell_type": "code",
   "execution_count": 13,
   "id": "8715b772-b680-41a4-805a-fb1a350b4788",
   "metadata": {},
   "outputs": [
    {
     "data": {
      "text/html": [
       "<div>\n",
       "<style scoped>\n",
       "    .dataframe tbody tr th:only-of-type {\n",
       "        vertical-align: middle;\n",
       "    }\n",
       "\n",
       "    .dataframe tbody tr th {\n",
       "        vertical-align: top;\n",
       "    }\n",
       "\n",
       "    .dataframe thead th {\n",
       "        text-align: right;\n",
       "    }\n",
       "</style>\n",
       "<table border=\"1\" class=\"dataframe\">\n",
       "  <thead>\n",
       "    <tr style=\"text-align: right;\">\n",
       "      <th></th>\n",
       "      <th>pizza category</th>\n",
       "      <th>rev percentage</th>\n",
       "    </tr>\n",
       "  </thead>\n",
       "  <tbody>\n",
       "    <tr>\n",
       "      <th>0</th>\n",
       "      <td>Classic</td>\n",
       "      <td>26.91</td>\n",
       "    </tr>\n",
       "    <tr>\n",
       "      <th>1</th>\n",
       "      <td>Supreme</td>\n",
       "      <td>25.46</td>\n",
       "    </tr>\n",
       "    <tr>\n",
       "      <th>2</th>\n",
       "      <td>Chicken</td>\n",
       "      <td>23.96</td>\n",
       "    </tr>\n",
       "    <tr>\n",
       "      <th>3</th>\n",
       "      <td>Veggie</td>\n",
       "      <td>23.68</td>\n",
       "    </tr>\n",
       "  </tbody>\n",
       "</table>\n",
       "</div>"
      ],
      "text/plain": [
       "  pizza category  rev percentage\n",
       "0        Classic           26.91\n",
       "1        Supreme           25.46\n",
       "2        Chicken           23.96\n",
       "3         Veggie           23.68"
      ]
     },
     "execution_count": 13,
     "metadata": {},
     "output_type": "execute_result"
    }
   ],
   "source": [
    "query = \"\"\" select pizza_types.category, \n",
    "    round(\n",
    "        sum(pizzas.price * order_details.quantity) / \n",
    "        (select sum(pizzas.price * order_details.quantity) \n",
    "         from pizzas\n",
    "         join order_details\n",
    "         on order_details.pizza_id = pizzas.pizza_id) * 100, 2\n",
    "    ) as revenue\n",
    "from \n",
    "    pizza_types\n",
    "join pizzas\n",
    "    on pizzas.pizza_type_id = pizza_types.pizza_type_id\n",
    "join order_details\n",
    "    on order_details.pizza_id = pizzas.pizza_id\n",
    "group by \n",
    "    pizza_types.category\n",
    "order by \n",
    "    revenue desc \"\"\"\n",
    "cur.execute(query)\n",
    "data = cur.fetchall()\n",
    "df = pd.DataFrame(data, columns=['pizza category', 'rev percentage'])\n",
    "df"
   ]
  },
  {
   "cell_type": "code",
   "execution_count": null,
   "id": "685dacef-82e7-4f6d-a59e-bd86ce78af5b",
   "metadata": {},
   "outputs": [],
   "source": [
    "query = \"\"\"\"\"\""
   ]
  },
  {
   "cell_type": "code",
   "execution_count": null,
   "id": "2a9aa993-4178-46ee-9f8d-11d73eba675a",
   "metadata": {},
   "outputs": [],
   "source": []
  }
 ],
 "metadata": {
  "kernelspec": {
   "display_name": "Python 3 (ipykernel)",
   "language": "python",
   "name": "python3"
  },
  "language_info": {
   "codemirror_mode": {
    "name": "ipython",
    "version": 3
   },
   "file_extension": ".py",
   "mimetype": "text/x-python",
   "name": "python",
   "nbconvert_exporter": "python",
   "pygments_lexer": "ipython3",
   "version": "3.13.0"
  },
  "widgets": {
   "application/vnd.jupyter.widget-state+json": {
    "state": {},
    "version_major": 2,
    "version_minor": 0
   }
  }
 },
 "nbformat": 4,
 "nbformat_minor": 5
}

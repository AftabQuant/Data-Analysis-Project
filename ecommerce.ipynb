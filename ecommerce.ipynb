{
 "cells": [
  {
   "cell_type": "code",
   "execution_count": null,
   "id": "e19afbb4-a7e0-4e8e-ad1d-6506584fdf66",
   "metadata": {},
   "outputs": [
    {
     "name": "stdout",
     "output_type": "stream",
     "text": [
      "Processing customers.csv\n",
      "NaN values before replacement:\n",
      "customer_id                 0\n",
      "customer_unique_id          0\n",
      "customer_zip_code_prefix    0\n",
      "customer_city               0\n",
      "customer_state              0\n",
      "dtype: int64\n",
      "\n"
     ]
    }
   ],
   "source": [
    "import pandas as pd\n",
    "import mysql.connector\n",
    "import os\n",
    "\n",
    "# List of CSV files and their corresponding table names\n",
    "csv_files = [\n",
    "    ('customers.csv', 'customers'),\n",
    "    ('orders.csv', 'orders'),\n",
    "    ('sellers.csv', 'sellers'),\n",
    "    ('products.csv', 'products'),\n",
    "    ('order_items.csv', 'order_items'),\n",
    "    ('payments.csv', 'payments'),\n",
    "    ('geolocation.csv', 'geolocation') # Added payments.csv for specific handling\n",
    "]\n",
    "\n",
    "# Connect to the MySQL database\n",
    "conn = mysql.connector.connect(\n",
    "    host='localhost',\n",
    "    user='root',\n",
    "    password='123456',\n",
    "    database='eCommerce'\n",
    ")\n",
    "cursor = conn.cursor()\n",
    "\n",
    "# Folder containing the CSV files\n",
    "folder_path = 'D:/Ultimate Programming/PortFolio ProJect/E Commerce'\n",
    "\n",
    "def get_sql_type(dtype):\n",
    "    if pd.api.types.is_integer_dtype(dtype):\n",
    "        return 'INT'\n",
    "    elif pd.api.types.is_float_dtype(dtype):\n",
    "        return 'FLOAT'\n",
    "    elif pd.api.types.is_bool_dtype(dtype):\n",
    "        return 'BOOLEAN'\n",
    "    elif pd.api.types.is_datetime64_any_dtype(dtype):\n",
    "        return 'DATETIME'\n",
    "    else:\n",
    "        return 'TEXT'\n",
    "\n",
    "for csv_file, table_name in csv_files:\n",
    "    file_path = os.path.join(folder_path, csv_file)\n",
    "    \n",
    "    # Read the CSV file into a pandas DataFrame\n",
    "    df = pd.read_csv(file_path)\n",
    "    \n",
    "    # Replace NaN with None to handle SQL NULL\n",
    "    df = df.where(pd.notnull(df), None)\n",
    "    \n",
    "    # Debugging: Check for NaN values\n",
    "    print(f\"Processing {csv_file}\")\n",
    "    print(f\"NaN values before replacement:\\n{df.isnull().sum()}\\n\")\n",
    "\n",
    "    # Clean column names\n",
    "    df.columns = [col.replace(' ', '_').replace('-', '_').replace('.', '_') for col in df.columns]\n",
    "\n",
    "    # Generate the CREATE TABLE statement with appropriate data types\n",
    "    columns = ', '.join([f'`{col}` {get_sql_type(df[col].dtype)}' for col in df.columns])\n",
    "    create_table_query = f'CREATE TABLE IF NOT EXISTS `{table_name}` ({columns})'\n",
    "    cursor.execute(create_table_query)\n",
    "\n",
    "    # Insert DataFrame data into the MySQL table\n",
    "    for _, row in df.iterrows():\n",
    "        # Convert row to tuple and handle NaN/None explicitly\n",
    "        values = tuple(None if pd.isna(x) else x for x in row)\n",
    "        sql = f\"INSERT INTO `{table_name}` ({', '.join(['`' + col + '`' for col in df.columns])}) VALUES ({', '.join(['%s'] * len(row))})\"\n",
    "        cursor.execute(sql, values)\n",
    "\n",
    "    # Commit the transaction for the current CSV file\n",
    "    conn.commit()\n",
    "\n",
    "# Close the connection\n",
    "conn.close()"
   ]
  },
  {
   "cell_type": "code",
   "execution_count": 1,
   "id": "cbcffeea-b668-4997-90fb-cfd470623fcc",
   "metadata": {},
   "outputs": [],
   "source": [
    "import numpy as np\n",
    "import pandas as pd\n",
    "import matplotlib.pyplot as plt\n",
    "import seaborn as sns\n",
    "import mysql.connector\n",
    "db = mysql.connector.connect(host = 'localhost',\n",
    "                              user = 'root',\n",
    "                              password = '123456',\n",
    "                              database = 'eCommerce')\n",
    "cur = db.cursor()"
   ]
  },
  {
   "cell_type": "markdown",
   "id": "c4c9442f-cdc8-4806-948a-44fa37538562",
   "metadata": {},
   "source": [
    "# 1. List all unique cities where customers are located."
   ]
  },
  {
   "cell_type": "code",
   "execution_count": 2,
   "id": "eec570d9-0a54-40f0-97b1-8a1e48d0e262",
   "metadata": {},
   "outputs": [
    {
     "name": "stdout",
     "output_type": "stream",
     "text": [
      "           Customers_City\n",
      "0                  franca\n",
      "1   sao bernardo do campo\n",
      "2               sao paulo\n",
      "3         mogi das cruzes\n",
      "4                campinas\n",
      "5          jaragua do sul\n",
      "6                 timoteo\n",
      "7                curitiba\n",
      "8          belo horizonte\n",
      "9           montes claros\n",
      "10         rio de janeiro\n",
      "11       lencois paulista\n",
      "12          caxias do sul\n",
      "13             piracicaba\n",
      "14              guarulhos\n",
      "15                 pacaja\n",
      "16          florianopolis\n",
      "17   aparecida de goiania\n",
      "18            santo andre\n"
     ]
    }
   ],
   "source": [
    "query = \"\"\" select distinct customer_city from customers\"\"\"\n",
    "cur.execute(query)\n",
    "data = cur.fetchall()\n",
    "df = pd.DataFrame(data)\n",
    "df.columns = ['Customers_City']\n",
    "print(df.head(19))"
   ]
  },
  {
   "cell_type": "markdown",
   "id": "3daea8aa-edc3-43d6-b669-fb61d0520777",
   "metadata": {},
   "source": [
    "# 2. Count The Number Of Orders Placed In 2017."
   ]
  },
  {
   "cell_type": "code",
   "execution_count": 3,
   "id": "8aa53f58-c299-4e1f-bcf6-0263e8c4e7e2",
   "metadata": {},
   "outputs": [
    {
     "name": "stdout",
     "output_type": "stream",
     "text": [
      "   Count\n",
      "0  45101\n"
     ]
    }
   ],
   "source": [
    "que2 = \"\"\" select count(order_id) from orders\n",
    "    where year(order_purchase_timestamp) = 2017\"\"\"\n",
    "cur.execute(que2)\n",
    "data = cur.fetchall()\n",
    "df = pd.DataFrame(data)\n",
    "df.columns = ['Count']\n",
    "print(df)"
   ]
  },
  {
   "cell_type": "markdown",
   "id": "87753ace-8680-4b4d-9917-8a092e15c77a",
   "metadata": {},
   "source": [
    "# 3. Find the total sales per category."
   ]
  },
  {
   "cell_type": "code",
   "execution_count": 4,
   "id": "4f5374ca-17eb-4d23-8282-317d78c8011d",
   "metadata": {},
   "outputs": [
    {
     "name": "stdout",
     "output_type": "stream",
     "text": [
      "              Categorty       Sales\n",
      "0             perfumery   506738.66\n",
      "1  Furniture Decoration  1430176.39\n",
      "2             telephony   486882.05\n",
      "3        bed table bath  1712553.67\n",
      "4            automotive   852294.33\n",
      "5  computer accessories  1585330.45\n",
      "6            housewares  1094758.13\n",
      "7                babies   539845.66\n",
      "8                  toys   619037.69\n",
      "9      Furniture office   646826.49\n"
     ]
    }
   ],
   "source": [
    "que3 = \"\"\" select products.product_category, round(sum(payments.payment_value),2)\n",
    "from products join order_items\n",
    "on products.product_id = order_items.product_id\n",
    "join payments\n",
    "on payments.order_id = order_items.order_id\n",
    "group by products.product_category\"\"\"\n",
    "cur.execute(que3)\n",
    "data = cur.fetchall()\n",
    "df = pd.DataFrame(data, columns = ['Categorty', 'Sales'])\n",
    "print(df.head(10))"
   ]
  },
  {
   "cell_type": "markdown",
   "id": "12877eca-ed04-41d7-9aae-8a1bd93136ae",
   "metadata": {},
   "source": [
    "# 4. Calculate the percentage of orders that were paid in installments."
   ]
  },
  {
   "cell_type": "code",
   "execution_count": 5,
   "id": "07d4ac0a-bb88-4f17-b889-2d9e10f7b189",
   "metadata": {},
   "outputs": [
    {
     "data": {
      "text/plain": [
       "('Total Paid Installmenys is : ', Decimal('99.9981'))"
      ]
     },
     "execution_count": 5,
     "metadata": {},
     "output_type": "execute_result"
    }
   ],
   "source": [
    "q4 = \"\"\"  select (sum(case when payment_installments >=1 then 1 \n",
    "    else 0 end))/ count(*) *  100 from payments\"\"\"\n",
    "cur.execute(q4)\n",
    "data = cur.fetchall()\n",
    "df = pd.DataFrame(data)\n",
    "'Total Paid Installmenys is : ' ,data[0][0]"
   ]
  },
  {
   "cell_type": "markdown",
   "id": "5085e66f-9197-4436-a5d8-3fe4c2ea8e4b",
   "metadata": {},
   "source": [
    "# 5. Count the number of customers from each state. \n"
   ]
  },
  {
   "cell_type": "code",
   "execution_count": 6,
   "id": "f9a35776-a6b4-442c-ac5d-a0a67bb9eb9f",
   "metadata": {},
   "outputs": [
    {
     "name": "stdout",
     "output_type": "stream",
     "text": [
      "  State  Numbers\n",
      "0    SP    41746\n",
      "1    SC     3637\n",
      "2    MG    11635\n",
      "3    PR     5045\n",
      "4    RJ    12852\n",
      "5    RS     5466\n",
      "6    PA      975\n",
      "7    GO     2020\n",
      "8    ES     2033\n",
      "9    BA     3380\n"
     ]
    },
    {
     "name": "stderr",
     "output_type": "stream",
     "text": [
      "C:\\Users\\iamaf\\AppData\\Local\\Temp\\ipykernel_8128\\493020383.py:7: FutureWarning: \n",
      "\n",
      "Passing `palette` without assigning `hue` is deprecated and will be removed in v0.14.0. Assign the `x` variable to `hue` and set `legend=False` for the same effect.\n",
      "\n",
      "  sns.barplot(data = df, x = 'State', y ='Numbers', palette='viridis')\n"
     ]
    },
    {
     "data": {
      "image/png": "[encoded data removed]",
      "text/plain": [
       "<Figure size 640x480 with 1 Axes>"
      ]
     },
     "metadata": {},
     "output_type": "display_data"
    }
   ],
   "source": [
    "q5 = \"\"\"select customer_state, count(customer_id) from customers\n",
    "group by customer_state\"\"\"\n",
    "cur.execute(q5)\n",
    "data = cur.fetchall()\n",
    "df = pd.DataFrame(data, columns = ['State', 'Numbers'])\n",
    "print(df.head(10))\n",
    "sns.barplot(data = df, x = 'State', y ='Numbers', palette='viridis')\n",
    "plt.show()"
   ]
  },
  {
   "cell_type": "markdown",
   "id": "8f893009-1a8b-46f9-bab0-addb62b52e28",
   "metadata": {},
   "source": [
    "# 6.Calculate the number of orders per month in 2018."
   ]
  },
  {
   "cell_type": "code",
   "execution_count": 7,
   "id": "ca492896-f57e-415d-9f5b-047f79f2d638",
   "metadata": {},
   "outputs": [
    {
     "name": "stdout",
     "output_type": "stream",
     "text": [
      "  Month  Order_Num\n",
      "0   Jul       6292\n",
      "1   Aug       6512\n",
      "2   Feb       6728\n",
      "3   Jun       6167\n",
      "4   Mar       7211\n",
      "5   Jan       7269\n",
      "6   May       6873\n",
      "7   Apr       6939\n",
      "8   Sep         16\n",
      "9   Oct          4\n"
     ]
    },
    {
     "data": {
      "image/png": "[encoded data removed]",
      "text/plain": [
       "<Figure size 640x480 with 1 Axes>"
      ]
     },
     "metadata": {},
     "output_type": "display_data"
    }
   ],
   "source": [
    "import calendar\n",
    "q6 = \"\"\" select monthname(order_purchase_timestamp), count(order_id) from ecommerce.orders\n",
    "where year(order_purchase_timestamp) = 2018\n",
    "group by monthname(order_purchase_timestamp)\"\"\"\n",
    "cur.execute(q6)\n",
    "data = cur.fetchall()\n",
    "df = pd.DataFrame(data, columns = ['Month', 'Order_Num'])\n",
    "df['Month'] = df['Month'].apply(lambda x: calendar.month_abbr[list(calendar.month_name).index(x)])\n",
    "print(df)\n",
    "ex = [0,0,0,0,0,0,0.2,0, 0.3, 0]\n",
    "plt.pie(df['Order_Num'], labels = df['Month'], startangle=180, explode = ex, shadow = True, autopct = \"%.2f\")\n",
    "plt.show()"
   ]
  },
  {
   "cell_type": "code",
   "execution_count": 8,
   "id": "083628f1-c77f-4e28-a2f6-4afc8a15fcec",
   "metadata": {},
   "outputs": [
    {
     "data": {
      "image/png": "[encoded data removed]",
      "text/plain": [
       "<Figure size 640x480 with 1 Axes>"
      ]
     },
     "metadata": {},
     "output_type": "display_data"
    }
   ],
   "source": [
    "q6 = \"\"\" select monthname(order_purchase_timestamp), count(order_id) from ecommerce.orders\n",
    "where year(order_purchase_timestamp) = 2018\n",
    "group by monthname(order_purchase_timestamp)\"\"\"\n",
    "cur.execute(q6)\n",
    "data = cur.fetchall()\n",
    "df = pd.DataFrame(data, columns = ['Month', 'Order_Num'])\n",
    "sns.barplot(data = df, x = 'Month', y = 'Order_Num',)\n",
    "plt.show()"
   ]
  },
  {
   "cell_type": "markdown",
   "id": "4bb4640b-831f-43e0-9b90-2607dd18f90d",
   "metadata": {},
   "source": [
    "# 2. Find the average number of products per order, grouped by customer city."
   ]
  },
  {
   "cell_type": "code",
   "execution_count": 9,
   "id": "7d23196f-b1b5-45c8-9315-1f5cee03a274",
   "metadata": {},
   "outputs": [],
   "source": [
    "query = \"\"\" with count_pr_ord as (select orders.order_id, orders.customer_id , count(order_items.order_item_id) as oc\n",
    "from orders join order_items\n",
    "on orders.order_id = order_items.order_id\n",
    "group by orders.order_id, orders.customer_id)\n",
    "select customers.customer_city, round(avg(count_pr_ord.oc),1)\n",
    "from customers join count_pr_ord\n",
    "on customers.customer_id = count_pr_ord.customer_id\n",
    "group by customers.customer_city \"\"\"\n",
    "cur.execute(query)\n",
    "data = cur.fetchall()\n",
    "df = pd.DataFrame(data, columns = ['customer_city', 'avg_order'])"
   ]
  },
  {
   "cell_type": "markdown",
   "id": "cf655591-1d2a-4f05-ad5c-e75ec099bc6f",
   "metadata": {},
   "source": [
    "# 3. Calculate the percentage of total revenue contributed by each product category."
   ]
  },
  {
   "cell_type": "code",
   "execution_count": 10,
   "id": "28507169-295b-4fff-949e-d53ddf617518",
   "metadata": {},
   "outputs": [
    {
     "name": "stdout",
     "output_type": "stream",
     "text": [
      "                   prod_ctegory  percentage\n",
      "0                     perfumery        3.17\n",
      "1          Furniture Decoration        8.93\n",
      "2                     telephony        3.04\n",
      "3                bed table bath       10.70\n",
      "4                    automotive        5.32\n",
      "..                          ...         ...\n",
      "69               cds music dvds        0.01\n",
      "70                   La Cuisine        0.02\n",
      "71  Fashion Children's Clothing        0.00\n",
      "72                     PC Gamer        0.01\n",
      "73       insurance and services        0.00\n",
      "\n",
      "[74 rows x 2 columns]\n"
     ]
    }
   ],
   "source": [
    "query = \"\"\"select products.product_category, round(((round(sum(payments.payment_value),2))/(select sum(payments.payment_value) from payments) * 100),2)\n",
    "from products join order_items\n",
    "on products.product_id= order_items.product_id\n",
    "join payments\n",
    "on order_items.order_id = payments.order_id\n",
    "group by products.product_category \"\"\"\n",
    "cur.execute(query)\n",
    "data = cur.fetchall()\n",
    "df = pd.DataFrame(data, columns = ['prod_ctegory', 'percentage'])\n",
    "print(df)"
   ]
  },
  {
   "cell_type": "markdown",
   "id": "1a34b9b2-cd3b-48cb-935e-810c7f2162d7",
   "metadata": {},
   "source": [
    "# 4. Identify the correlation between product price and the number of times a product has been purchased."
   ]
  },
  {
   "cell_type": "code",
   "execution_count": 11,
   "id": "f499e90a-fba4-4609-9893-acac058b9ca6",
   "metadata": {},
   "outputs": [
    {
     "data": {
      "text/plain": [
       "array([[ 1.       , -0.1064395],\n",
       "       [-0.1064395,  1.       ]])"
      ]
     },
     "execution_count": 11,
     "metadata": {},
     "output_type": "execute_result"
    }
   ],
   "source": [
    "query = \"\"\"select products.product_category, count(order_items.product_id), round(avg(order_items.price))\n",
    "from products join order_items\n",
    "on products.product_id = order_items.product_id\n",
    "group by products.product_category\"\"\"\n",
    "cur.execute(query)\n",
    "data = cur.fetchall()\n",
    "df = pd.DataFrame(data, columns = ['Products_cat', 'total_cnt', 'avg_price'])\n",
    "np.corrcoef(df['total_cnt'], df['avg_price'])"
   ]
  },
  {
   "cell_type": "markdown",
   "id": "f96181c4-e54b-435b-b905-684506799d0b",
   "metadata": {},
   "source": [
    "# 5. Calculate the total revenue generated by each seller, and rank them by revenue."
   ]
  },
  {
   "cell_type": "code",
   "execution_count": 12,
   "id": "014c2b50-196a-4f8b-a0cb-79acc6dc9ec6",
   "metadata": {},
   "outputs": [
    {
     "data": {
      "text/html": [
       "<div>\n",
       "<style scoped>\n",
       "    .dataframe tbody tr th:only-of-type {\n",
       "        vertical-align: middle;\n",
       "    }\n",
       "\n",
       "    .dataframe tbody tr th {\n",
       "        vertical-align: top;\n",
       "    }\n",
       "\n",
       "    .dataframe thead th {\n",
       "        text-align: right;\n",
       "    }\n",
       "</style>\n",
       "<table border=\"1\" class=\"dataframe\">\n",
       "  <thead>\n",
       "    <tr style=\"text-align: right;\">\n",
       "      <th></th>\n",
       "      <th>seller_id</th>\n",
       "      <th>revenue</th>\n",
       "      <th>rank</th>\n",
       "    </tr>\n",
       "  </thead>\n",
       "  <tbody>\n",
       "    <tr>\n",
       "      <th>0</th>\n",
       "      <td>7c67e1448b00f6e969d365cea6b010ab</td>\n",
       "      <td>507166.91</td>\n",
       "      <td>1</td>\n",
       "    </tr>\n",
       "    <tr>\n",
       "      <th>1</th>\n",
       "      <td>1025f0e2d44d7041d6cf58b6550e0bfa</td>\n",
       "      <td>308222.04</td>\n",
       "      <td>2</td>\n",
       "    </tr>\n",
       "    <tr>\n",
       "      <th>2</th>\n",
       "      <td>4a3ca9315b744ce9f8e9374361493884</td>\n",
       "      <td>301245.27</td>\n",
       "      <td>3</td>\n",
       "    </tr>\n",
       "    <tr>\n",
       "      <th>3</th>\n",
       "      <td>1f50f920176fa81dab994f9023523100</td>\n",
       "      <td>290253.42</td>\n",
       "      <td>4</td>\n",
       "    </tr>\n",
       "    <tr>\n",
       "      <th>4</th>\n",
       "      <td>53243585a1d6dc2643021fd1853d8905</td>\n",
       "      <td>284903.08</td>\n",
       "      <td>5</td>\n",
       "    </tr>\n",
       "    <tr>\n",
       "      <th>5</th>\n",
       "      <td>da8622b14eb17ae2831f4ac5b9dab84a</td>\n",
       "      <td>272219.32</td>\n",
       "      <td>6</td>\n",
       "    </tr>\n",
       "    <tr>\n",
       "      <th>6</th>\n",
       "      <td>4869f7a5dfa277a7dca6462dcf3b52b2</td>\n",
       "      <td>264166.12</td>\n",
       "      <td>7</td>\n",
       "    </tr>\n",
       "    <tr>\n",
       "      <th>7</th>\n",
       "      <td>955fee9216a65b617aa5c0531780ce60</td>\n",
       "      <td>236322.30</td>\n",
       "      <td>8</td>\n",
       "    </tr>\n",
       "    <tr>\n",
       "      <th>8</th>\n",
       "      <td>fa1c13f2614d7b5c4749cbc52fecda94</td>\n",
       "      <td>206513.23</td>\n",
       "      <td>9</td>\n",
       "    </tr>\n",
       "    <tr>\n",
       "      <th>9</th>\n",
       "      <td>7e93a43ef30c4f03f38b393420bc753a</td>\n",
       "      <td>185134.21</td>\n",
       "      <td>10</td>\n",
       "    </tr>\n",
       "  </tbody>\n",
       "</table>\n",
       "</div>"
      ],
      "text/plain": [
       "                          seller_id    revenue  rank\n",
       "0  7c67e1448b00f6e969d365cea6b010ab  507166.91     1\n",
       "1  1025f0e2d44d7041d6cf58b6550e0bfa  308222.04     2\n",
       "2  4a3ca9315b744ce9f8e9374361493884  301245.27     3\n",
       "3  1f50f920176fa81dab994f9023523100  290253.42     4\n",
       "4  53243585a1d6dc2643021fd1853d8905  284903.08     5\n",
       "5  da8622b14eb17ae2831f4ac5b9dab84a  272219.32     6\n",
       "6  4869f7a5dfa277a7dca6462dcf3b52b2  264166.12     7\n",
       "7  955fee9216a65b617aa5c0531780ce60  236322.30     8\n",
       "8  fa1c13f2614d7b5c4749cbc52fecda94  206513.23     9\n",
       "9  7e93a43ef30c4f03f38b393420bc753a  185134.21    10"
      ]
     },
     "execution_count": 12,
     "metadata": {},
     "output_type": "execute_result"
    }
   ],
   "source": [
    "query = \"\"\" select  * , dense_rank() over(order by revenue desc) as rn from \n",
    "(select order_items.seller_id, round(sum( payments.payment_value),2) revenue\n",
    "from order_items join payments\n",
    "on order_items.order_id = payments.order_id\n",
    "group by order_items.seller_id) as a \"\"\"\n",
    "cur.execute(query)\n",
    "data = cur.fetchall()\n",
    "df = pd.DataFrame(data, columns = ['seller_id', 'revenue', 'rank'])\n",
    "df.head(10)"
   ]
  },
  {
   "cell_type": "markdown",
   "id": "40aef709-5b13-474d-ad9e-64932d23c329",
   "metadata": {},
   "source": [
    "# 1. Calculate the moving average of order values for each customer over their order history."
   ]
  },
  {
   "cell_type": "code",
   "execution_count": 13,
   "id": "ffa4613f-5a3b-4ce2-bba7-12af5fb32f38",
   "metadata": {},
   "outputs": [
    {
     "data": {
      "text/html": [
       "<div>\n",
       "<style scoped>\n",
       "    .dataframe tbody tr th:only-of-type {\n",
       "        vertical-align: middle;\n",
       "    }\n",
       "\n",
       "    .dataframe tbody tr th {\n",
       "        vertical-align: top;\n",
       "    }\n",
       "\n",
       "    .dataframe thead th {\n",
       "        text-align: right;\n",
       "    }\n",
       "</style>\n",
       "<table border=\"1\" class=\"dataframe\">\n",
       "  <thead>\n",
       "    <tr style=\"text-align: right;\">\n",
       "      <th></th>\n",
       "      <th>0</th>\n",
       "      <th>1</th>\n",
       "      <th>2</th>\n",
       "    </tr>\n",
       "  </thead>\n",
       "  <tbody>\n",
       "    <tr>\n",
       "      <th>0</th>\n",
       "      <td>00012a2ce6f8dcda20d059ce98491703</td>\n",
       "      <td>2017-11-14 16:08:26</td>\n",
       "      <td>114.739998</td>\n",
       "    </tr>\n",
       "    <tr>\n",
       "      <th>1</th>\n",
       "      <td>000161a058600d5901f007fab4c27140</td>\n",
       "      <td>2017-07-16 09:40:32</td>\n",
       "      <td>67.410004</td>\n",
       "    </tr>\n",
       "    <tr>\n",
       "      <th>2</th>\n",
       "      <td>0001fd6190edaaf884bcaf3d49edf079</td>\n",
       "      <td>2017-02-28 11:06:43</td>\n",
       "      <td>195.419998</td>\n",
       "    </tr>\n",
       "    <tr>\n",
       "      <th>3</th>\n",
       "      <td>0002414f95344307404f0ace7a26f1d5</td>\n",
       "      <td>2017-08-16 13:09:20</td>\n",
       "      <td>179.350006</td>\n",
       "    </tr>\n",
       "    <tr>\n",
       "      <th>4</th>\n",
       "      <td>000379cdec625522490c315e70c7a9fb</td>\n",
       "      <td>2018-04-02 13:42:17</td>\n",
       "      <td>107.010002</td>\n",
       "    </tr>\n",
       "    <tr>\n",
       "      <th>5</th>\n",
       "      <td>0004164d20a9e969af783496f3408652</td>\n",
       "      <td>2017-04-12 08:35:12</td>\n",
       "      <td>71.800003</td>\n",
       "    </tr>\n",
       "    <tr>\n",
       "      <th>6</th>\n",
       "      <td>000419c5494106c306a97b5635748086</td>\n",
       "      <td>2018-03-02 17:47:40</td>\n",
       "      <td>49.400002</td>\n",
       "    </tr>\n",
       "    <tr>\n",
       "      <th>7</th>\n",
       "      <td>00046a560d407e99b969756e0b10f282</td>\n",
       "      <td>2017-12-18 11:08:30</td>\n",
       "      <td>166.589996</td>\n",
       "    </tr>\n",
       "    <tr>\n",
       "      <th>8</th>\n",
       "      <td>00050bf6e01e69d5c0fd612f1bcfb69c</td>\n",
       "      <td>2017-09-17 16:04:44</td>\n",
       "      <td>85.230003</td>\n",
       "    </tr>\n",
       "    <tr>\n",
       "      <th>9</th>\n",
       "      <td>000598caf2ef4117407665ac33275130</td>\n",
       "      <td>2018-08-11 12:14:35</td>\n",
       "      <td>1255.709961</td>\n",
       "    </tr>\n",
       "  </tbody>\n",
       "</table>\n",
       "</div>"
      ],
      "text/plain": [
       "                                  0                    1            2\n",
       "0  00012a2ce6f8dcda20d059ce98491703  2017-11-14 16:08:26   114.739998\n",
       "1  000161a058600d5901f007fab4c27140  2017-07-16 09:40:32    67.410004\n",
       "2  0001fd6190edaaf884bcaf3d49edf079  2017-02-28 11:06:43   195.419998\n",
       "3  0002414f95344307404f0ace7a26f1d5  2017-08-16 13:09:20   179.350006\n",
       "4  000379cdec625522490c315e70c7a9fb  2018-04-02 13:42:17   107.010002\n",
       "5  0004164d20a9e969af783496f3408652  2017-04-12 08:35:12    71.800003\n",
       "6  000419c5494106c306a97b5635748086  2018-03-02 17:47:40    49.400002\n",
       "7  00046a560d407e99b969756e0b10f282  2017-12-18 11:08:30   166.589996\n",
       "8  00050bf6e01e69d5c0fd612f1bcfb69c  2017-09-17 16:04:44    85.230003\n",
       "9  000598caf2ef4117407665ac33275130  2018-08-11 12:14:35  1255.709961"
      ]
     },
     "execution_count": 13,
     "metadata": {},
     "output_type": "execute_result"
    }
   ],
   "source": [
    "query = \"\"\"select customer_id, order_purchase_timestamp, avg(pay)\n",
    "over (partition by customer_id order by order_purchase_timestamp rows\n",
    "between 2 preceding and current row) as moving_avg\n",
    "from \n",
    "(select orders.customer_id, orders.order_purchase_timestamp, payments.payment_value as pay\n",
    "from orders join payments\n",
    "on orders.order_id = payments.order_id) as a\"\"\"\n",
    "cur.execute(query)\n",
    "data = cur.fetchall()\n",
    "df = pd.DataFrame(data)\n",
    "df.head(10)"
   ]
  },
  {
   "cell_type": "markdown",
   "id": "ca69f1a0-f8d0-4f78-beef-cea1ecc3ba10",
   "metadata": {},
   "source": [
    "# 2. Calculate the cumulative sales per month for each year."
   ]
  },
  {
   "cell_type": "code",
   "execution_count": 14,
   "id": "1943ecdd-b236-46a0-9519-193d0cc58055",
   "metadata": {},
   "outputs": [
    {
     "name": "stdout",
     "output_type": "stream",
     "text": [
      "    years      month      cus_sum\n",
      "0    2016   December        19.62\n",
      "1    2016    October     59110.10\n",
      "2    2016  September     59362.34\n",
      "3    2017      April    477150.37\n",
      "4    2017     August   1151546.69\n",
      "5    2017   December   2029948.17\n",
      "6    2017   February   2321856.18\n",
      "7    2017    January   2460344.22\n",
      "8    2017       July   3052727.14\n",
      "9    2017       June   3564003.52\n",
      "10   2017      March   4013867.12\n",
      "11   2017        May   4606785.94\n",
      "12   2017   November   5801668.74\n",
      "13   2017    October   6581346.62\n",
      "14   2017  September   7309109.07\n",
      "15   2018      April   8469894.55\n",
      "16   2018     August   9492319.87\n",
      "17   2018   February  10484783.21\n",
      "18   2018    January  11599787.39\n",
      "19   2018       July  12666328.14\n",
      "20   2018       June  13690208.64\n",
      "21   2018      March  14849860.76\n",
      "22   2018        May  16003842.91\n",
      "23   2018    October  16004432.58\n",
      "24   2018  September  16008872.12\n"
     ]
    }
   ],
   "source": [
    "query = \"\"\"select years, months, sum(total_payment)\n",
    "over(order by years, months) pay from\n",
    "(select year(orders.order_purchase_timestamp) as years,\n",
    "monthname(orders.order_purchase_timestamp) as months,\n",
    "round(sum(payments.payment_value),2) total_payment\n",
    "from orders join payments\n",
    "on orders.order_id = payments.order_id\n",
    "group by years, months) as a\n",
    "order by years asc \"\"\"\n",
    "cur.execute(query)\n",
    "data = cur.fetchall()\n",
    "df = pd.DataFrame(data, columns = ['years','month', 'cus_sum'])\n",
    "print(df)"
   ]
  },
  {
   "cell_type": "markdown",
   "id": "444e20aa-c58b-4496-ba36-492a381af6e5",
   "metadata": {},
   "source": [
    "# 3. Calculate the year-over-year growth rate of total sales."
   ]
  },
  {
   "cell_type": "code",
   "execution_count": 26,
   "id": "25ccf0ad-1ef6-4620-b75f-fd6e6123894e",
   "metadata": {},
   "outputs": [
    {
     "name": "stdout",
     "output_type": "stream",
     "text": [
      "   years  total_payment   growth\n",
      "0   2016       59362.34      NaN\n",
      "1   2017     7249746.73  12112.7\n",
      "2   2018     8699763.05     20.0\n"
     ]
    },
    {
     "data": {
      "image/png": "[encoded data removed]",
      "text/plain": [
       "<Figure size 640x480 with 1 Axes>"
      ]
     },
     "metadata": {},
     "output_type": "display_data"
    },
    {
     "data": {
      "image/png": "[encoded data removed]",
      "text/plain": [
       "<Figure size 640x480 with 1 Axes>"
      ]
     },
     "metadata": {},
     "output_type": "display_data"
    }
   ],
   "source": [
    "query = \"\"\" with a as (select year(orders.order_purchase_timestamp) as years, round(sum(payments.payment_value),2) as pay\n",
    "from orders join payments\n",
    "on orders.order_id = payments.order_id\n",
    "group by years)\n",
    "select years, pay, round(((pay - lag(pay, 1) over(order by years)) / lag(pay, 1) over(order by years)) * 100,2) from a\"\"\"\n",
    "cur.execute(query)\n",
    "data = cur.fetchall()\n",
    "df = pd.DataFrame(data, columns = ['years', 'total_payment', 'growth'])\n",
    "print(df)\n",
    "sns.barplot(data = df, x = 'years', y = 'total_payment')\n",
    "plt.show()\n",
    "sns.scatterplot(data = df, x = 'years', y = 'total_payment', hue = 'growth')\n",
    "plt.show()"
   ]
  },
  {
   "cell_type": "markdown",
   "id": "e5db7073-2985-4077-8881-214aff098d3e",
   "metadata": {},
   "source": [
    "# 4. Calculate the retention rate of customers, defined as the percentage of customers who make another purchase within 6 months of their first purchase."
   ]
  },
  {
   "cell_type": "code",
   "execution_count": 27,
   "id": "217103ab-f6ad-41c7-9318-3f1c7bb50030",
   "metadata": {},
   "outputs": [
    {
     "name": "stdout",
     "output_type": "stream",
     "text": [
      "      0\n",
      "0  None\n"
     ]
    }
   ],
   "source": [
    "query = \"\"\"with a as (select customers.customer_id,\n",
    "min(orders.order_purchase_timestamp) first_order\n",
    "from customers join orders\n",
    "on customers.customer_id = orders.customer_id\n",
    "group by customers.customer_id),\n",
    "\n",
    "b as (select a.customer_id, count(distinct orders.order_purchase_timestamp) next_order\n",
    "from a join orders\n",
    "on orders.customer_id = a.customer_id\n",
    "and orders.order_purchase_timestamp > first_order\n",
    "and orders.order_purchase_timestamp < \n",
    "date_add(first_order, interval 6 month)\n",
    "group by a.customer_id) \n",
    "\n",
    "select 100 * (count( distinct a.customer_id)/ count(distinct b.customer_id)) \n",
    "from a left join b \n",
    "on a.customer_id = b.customer_id ;\"\"\"\n",
    "\n",
    "cur.execute(query)\n",
    "data = cur.fetchall()\n",
    "df = pd.DataFrame(data)\n",
    "print(df)"
   ]
  },
  {
   "cell_type": "markdown",
   "id": "b7e75848-6d53-447d-883f-c4a4645cb532",
   "metadata": {},
   "source": [
    "# Identify the top 3 customers who spent the most money in each year."
   ]
  },
  {
   "cell_type": "code",
   "execution_count": 29,
   "id": "99f05ccd-6b43-4fd1-867c-dc99fe9d4528",
   "metadata": {},
   "outputs": [
    {
     "name": "stdout",
     "output_type": "stream",
     "text": [
      "   years                                id   payment  rank\n",
      "0   2016  a9dc96b027d1252bbac0a9b72d837fc6   1423.55     1\n",
      "1   2016  1d34ed25963d5aae4cf3d7f3a4cda173   1400.74     2\n",
      "2   2016  4a06381959b6670756de02e07b83815f   1227.78     3\n",
      "3   2017  1617b1357756262bfa56ab541c47bc16  13664.08     1\n",
      "4   2017  c6e2731c5b391845f6800c97401a43a9   6929.31     2\n",
      "5   2017  3fd6777bbce08a352fddd04e4a7cc8f6   6726.66     3\n",
      "6   2018  ec5b2ba62e574342386871631fafd3fc   7274.88     1\n",
      "7   2018  f48d464a0baaea338cb25f816991ab1f   6922.21     2\n",
      "8   2018  e0a2412720e9ea4f26c1ac985f6a7358   4809.44     3\n"
     ]
    }
   ],
   "source": [
    "query = \"\"\"select years, customer_id, round(payment,2), d_rank\n",
    "from\n",
    "(select year(orders.order_purchase_timestamp) years,\n",
    "orders.customer_id,\n",
    "sum(payments.payment_value) payment,\n",
    "dense_rank() over(partition by year(orders.order_purchase_timestamp)\n",
    "order by sum(payments.payment_value) desc) d_rank\n",
    "from orders join payments \n",
    "on payments.order_id = orders.order_id\n",
    "group by year(orders.order_purchase_timestamp),\n",
    "orders.customer_id) as a\n",
    "where d_rank <= 3 ;\"\"\"\n",
    "\n",
    "cur.execute(query)\n",
    "data = cur.fetchall()\n",
    "df = pd.DataFrame(data, columns = [\"years\",\"id\",\"payment\",\"rank\"])\n",
    "print(df)"
   ]
  }
 ],
 "metadata": {
  "kernelspec": {
   "display_name": "Python 3 (ipykernel)",
   "language": "python",
   "name": "python3"
  },
  "language_info": {
   "codemirror_mode": {
    "name": "ipython",
    "version": 3
   },
   "file_extension": ".py",
   "mimetype": "text/x-python",
   "name": "python",
   "nbconvert_exporter": "python",
   "pygments_lexer": "ipython3",
   "version": "3.13.0"
  },
  "widgets": {
   "application/vnd.jupyter.widget-state+json": {
    "state": {},
    "version_major": 2,
    "version_minor": 0
   }
  }
 },
 "nbformat": 4,
 "nbformat_minor": 5
}
